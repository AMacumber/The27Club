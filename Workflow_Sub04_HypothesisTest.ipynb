{
 "cells": [
  {
   "cell_type": "markdown",
   "metadata": {},
   "source": [
    "# Workflow **Global Life Expectancy**"
   ]
  },
  {
   "cell_type": "markdown",
   "metadata": {},
   "source": [
    "## **Load**"
   ]
  },
  {
   "cell_type": "markdown",
   "metadata": {},
   "source": [
    "## Data: **Global Life Expectancy**"
   ]
  },
  {
   "cell_type": "code",
   "execution_count": 171,
   "metadata": {},
   "outputs": [],
   "source": [
    "filename = 'Data_WHO_LifeExpectancy.csv'\n",
    "\n",
    "import_data = pd.read_csv(filename,\n",
    "                       skiprows = 4)"
   ]
  },
  {
   "cell_type": "code",
   "execution_count": 172,
   "metadata": {},
   "outputs": [
    {
     "data": {
      "text/html": [
       "<div>\n",
       "<style scoped>\n",
       "    .dataframe tbody tr th:only-of-type {\n",
       "        vertical-align: middle;\n",
       "    }\n",
       "\n",
       "    .dataframe tbody tr th {\n",
       "        vertical-align: top;\n",
       "    }\n",
       "\n",
       "    .dataframe thead th {\n",
       "        text-align: right;\n",
       "    }\n",
       "</style>\n",
       "<table border=\"1\" class=\"dataframe\">\n",
       "  <thead>\n",
       "    <tr style=\"text-align: right;\">\n",
       "      <th></th>\n",
       "      <th>Country Name</th>\n",
       "      <th>Country Code</th>\n",
       "      <th>Indicator Name</th>\n",
       "      <th>Indicator Code</th>\n",
       "      <th>1960</th>\n",
       "      <th>1961</th>\n",
       "      <th>1962</th>\n",
       "      <th>1963</th>\n",
       "      <th>1964</th>\n",
       "      <th>1965</th>\n",
       "      <th>...</th>\n",
       "      <th>2011</th>\n",
       "      <th>2012</th>\n",
       "      <th>2013</th>\n",
       "      <th>2014</th>\n",
       "      <th>2015</th>\n",
       "      <th>2016</th>\n",
       "      <th>2017</th>\n",
       "      <th>2018</th>\n",
       "      <th>2019</th>\n",
       "      <th>Unnamed: 64</th>\n",
       "    </tr>\n",
       "  </thead>\n",
       "  <tbody>\n",
       "    <tr>\n",
       "      <th>0</th>\n",
       "      <td>Aruba</td>\n",
       "      <td>ABW</td>\n",
       "      <td>Life expectancy at birth, total (years)</td>\n",
       "      <td>SP.DYN.LE00.IN</td>\n",
       "      <td>65.662</td>\n",
       "      <td>66.074</td>\n",
       "      <td>66.444</td>\n",
       "      <td>66.787</td>\n",
       "      <td>67.113</td>\n",
       "      <td>67.435</td>\n",
       "      <td>...</td>\n",
       "      <td>75.158</td>\n",
       "      <td>75.299</td>\n",
       "      <td>75.441</td>\n",
       "      <td>75.583</td>\n",
       "      <td>75.725</td>\n",
       "      <td>75.868</td>\n",
       "      <td>76.010</td>\n",
       "      <td>NaN</td>\n",
       "      <td>NaN</td>\n",
       "      <td>NaN</td>\n",
       "    </tr>\n",
       "    <tr>\n",
       "      <th>1</th>\n",
       "      <td>Afghanistan</td>\n",
       "      <td>AFG</td>\n",
       "      <td>Life expectancy at birth, total (years)</td>\n",
       "      <td>SP.DYN.LE00.IN</td>\n",
       "      <td>32.446</td>\n",
       "      <td>32.962</td>\n",
       "      <td>33.471</td>\n",
       "      <td>33.971</td>\n",
       "      <td>34.463</td>\n",
       "      <td>34.948</td>\n",
       "      <td>...</td>\n",
       "      <td>61.553</td>\n",
       "      <td>62.054</td>\n",
       "      <td>62.525</td>\n",
       "      <td>62.966</td>\n",
       "      <td>63.377</td>\n",
       "      <td>63.763</td>\n",
       "      <td>64.130</td>\n",
       "      <td>NaN</td>\n",
       "      <td>NaN</td>\n",
       "      <td>NaN</td>\n",
       "    </tr>\n",
       "    <tr>\n",
       "      <th>2</th>\n",
       "      <td>Angola</td>\n",
       "      <td>AGO</td>\n",
       "      <td>Life expectancy at birth, total (years)</td>\n",
       "      <td>SP.DYN.LE00.IN</td>\n",
       "      <td>37.524</td>\n",
       "      <td>37.811</td>\n",
       "      <td>38.113</td>\n",
       "      <td>38.430</td>\n",
       "      <td>38.760</td>\n",
       "      <td>39.102</td>\n",
       "      <td>...</td>\n",
       "      <td>56.330</td>\n",
       "      <td>57.236</td>\n",
       "      <td>58.054</td>\n",
       "      <td>58.776</td>\n",
       "      <td>59.398</td>\n",
       "      <td>59.925</td>\n",
       "      <td>60.379</td>\n",
       "      <td>NaN</td>\n",
       "      <td>NaN</td>\n",
       "      <td>NaN</td>\n",
       "    </tr>\n",
       "    <tr>\n",
       "      <th>3</th>\n",
       "      <td>Albania</td>\n",
       "      <td>ALB</td>\n",
       "      <td>Life expectancy at birth, total (years)</td>\n",
       "      <td>SP.DYN.LE00.IN</td>\n",
       "      <td>62.283</td>\n",
       "      <td>63.301</td>\n",
       "      <td>64.190</td>\n",
       "      <td>64.914</td>\n",
       "      <td>65.463</td>\n",
       "      <td>65.850</td>\n",
       "      <td>...</td>\n",
       "      <td>76.914</td>\n",
       "      <td>77.252</td>\n",
       "      <td>77.554</td>\n",
       "      <td>77.813</td>\n",
       "      <td>78.025</td>\n",
       "      <td>78.194</td>\n",
       "      <td>78.333</td>\n",
       "      <td>NaN</td>\n",
       "      <td>NaN</td>\n",
       "      <td>NaN</td>\n",
       "    </tr>\n",
       "    <tr>\n",
       "      <th>4</th>\n",
       "      <td>Andorra</td>\n",
       "      <td>AND</td>\n",
       "      <td>Life expectancy at birth, total (years)</td>\n",
       "      <td>SP.DYN.LE00.IN</td>\n",
       "      <td>NaN</td>\n",
       "      <td>NaN</td>\n",
       "      <td>NaN</td>\n",
       "      <td>NaN</td>\n",
       "      <td>NaN</td>\n",
       "      <td>NaN</td>\n",
       "      <td>...</td>\n",
       "      <td>NaN</td>\n",
       "      <td>NaN</td>\n",
       "      <td>NaN</td>\n",
       "      <td>NaN</td>\n",
       "      <td>NaN</td>\n",
       "      <td>NaN</td>\n",
       "      <td>NaN</td>\n",
       "      <td>NaN</td>\n",
       "      <td>NaN</td>\n",
       "      <td>NaN</td>\n",
       "    </tr>\n",
       "  </tbody>\n",
       "</table>\n",
       "<p>5 rows × 65 columns</p>\n",
       "</div>"
      ],
      "text/plain": [
       "  Country Name Country Code                           Indicator Name  \\\n",
       "0        Aruba          ABW  Life expectancy at birth, total (years)   \n",
       "1  Afghanistan          AFG  Life expectancy at birth, total (years)   \n",
       "2       Angola          AGO  Life expectancy at birth, total (years)   \n",
       "3      Albania          ALB  Life expectancy at birth, total (years)   \n",
       "4      Andorra          AND  Life expectancy at birth, total (years)   \n",
       "\n",
       "   Indicator Code    1960    1961    1962    1963    1964    1965  ...  \\\n",
       "0  SP.DYN.LE00.IN  65.662  66.074  66.444  66.787  67.113  67.435  ...   \n",
       "1  SP.DYN.LE00.IN  32.446  32.962  33.471  33.971  34.463  34.948  ...   \n",
       "2  SP.DYN.LE00.IN  37.524  37.811  38.113  38.430  38.760  39.102  ...   \n",
       "3  SP.DYN.LE00.IN  62.283  63.301  64.190  64.914  65.463  65.850  ...   \n",
       "4  SP.DYN.LE00.IN     NaN     NaN     NaN     NaN     NaN     NaN  ...   \n",
       "\n",
       "     2011    2012    2013    2014    2015    2016    2017  2018  2019  \\\n",
       "0  75.158  75.299  75.441  75.583  75.725  75.868  76.010   NaN   NaN   \n",
       "1  61.553  62.054  62.525  62.966  63.377  63.763  64.130   NaN   NaN   \n",
       "2  56.330  57.236  58.054  58.776  59.398  59.925  60.379   NaN   NaN   \n",
       "3  76.914  77.252  77.554  77.813  78.025  78.194  78.333   NaN   NaN   \n",
       "4     NaN     NaN     NaN     NaN     NaN     NaN     NaN   NaN   NaN   \n",
       "\n",
       "   Unnamed: 64  \n",
       "0          NaN  \n",
       "1          NaN  \n",
       "2          NaN  \n",
       "3          NaN  \n",
       "4          NaN  \n",
       "\n",
       "[5 rows x 65 columns]"
      ]
     },
     "execution_count": 172,
     "metadata": {},
     "output_type": "execute_result"
    }
   ],
   "source": [
    "import_data.head()"
   ]
  },
  {
   "cell_type": "code",
   "execution_count": 173,
   "metadata": {},
   "outputs": [
    {
     "data": {
      "text/plain": [
       "72.32120285275374"
      ]
     },
     "execution_count": 173,
     "metadata": {},
     "output_type": "execute_result"
    }
   ],
   "source": [
    "lifexp_globe = np.array(import_data['2017'])\n",
    "\n",
    "lifexp_globe = lifexp_globe[~np.isnan(lifexp_globe)]\n",
    "\n",
    "lifexp_globe = np.mean(lifexp_globe)\n",
    "lifexp_globe"
   ]
  },
  {
   "cell_type": "markdown",
   "metadata": {},
   "source": [
    "## Data: **Musician Life Expectancy**"
   ]
  },
  {
   "cell_type": "code",
   "execution_count": 174,
   "metadata": {},
   "outputs": [],
   "source": [
    "# module needed to handle jsons\n",
    "import json\n",
    "\n",
    "# module needed to draw random samples\n",
    "import random\n",
    "\n",
    "# module needed to handle arrays\n",
    "import numpy as np\n",
    "\n",
    "# modules needed for graphing\n",
    "import matplotlib.pyplot as plt\n",
    "import seaborn as sns"
   ]
  },
  {
   "cell_type": "code",
   "execution_count": 175,
   "metadata": {},
   "outputs": [],
   "source": [
    "with open('musician_age_at_death.json', 'r') as fp:\n",
    "    data = json.load(fp)"
   ]
  },
  {
   "cell_type": "code",
   "execution_count": 176,
   "metadata": {},
   "outputs": [],
   "source": [
    "lifexp_music = np.array(list(data.values()))\n",
    "\n",
    "lifexp_music = lifexp_music[lifexp_music >= 15]  # source of variation"
   ]
  },
  {
   "cell_type": "markdown",
   "metadata": {},
   "source": [
    "## Analysis: **Hypthesis Test**"
   ]
  },
  {
   "cell_type": "markdown",
   "metadata": {},
   "source": [
    "Null Hypothesis: Musicians have an average life expectancy"
   ]
  },
  {
   "cell_type": "code",
   "execution_count": 177,
   "metadata": {},
   "outputs": [
    {
     "data": {
      "text/plain": [
       "72.32120285275374"
      ]
     },
     "execution_count": 177,
     "metadata": {},
     "output_type": "execute_result"
    }
   ],
   "source": [
    "lifexp_globe"
   ]
  },
  {
   "cell_type": "code",
   "execution_count": 178,
   "metadata": {},
   "outputs": [
    {
     "data": {
      "text/plain": [
       "66.57464019329761"
      ]
     },
     "execution_count": 178,
     "metadata": {},
     "output_type": "execute_result"
    }
   ],
   "source": [
    "np.mean(lifexp_music)"
   ]
  },
  {
   "cell_type": "code",
   "execution_count": 179,
   "metadata": {},
   "outputs": [
    {
     "data": {
      "text/plain": [
       "5.745359806702382"
      ]
     },
     "execution_count": 179,
     "metadata": {},
     "output_type": "execute_result"
    }
   ],
   "source": [
    "# calculate the observed test statistic\n",
    "diff_observed = diff_from_single(lifexp_music)\n",
    "diff_observed"
   ]
  },
  {
   "cell_type": "code",
   "execution_count": 187,
   "metadata": {},
   "outputs": [
    {
     "data": {
      "text/plain": [
       "0.0"
      ]
     },
     "execution_count": 187,
     "metadata": {},
     "output_type": "execute_result"
    }
   ],
   "source": [
    "# shift the musician dataset so that the mean is that of globe's\n",
    "music_shifted = lifexp_music - np.mean(lifexp_music) + lifexp_globe\n",
    "\n",
    "# draw bootstrap replicates (test statistic) from shifted dataset\n",
    "bs_replicates = draw_bs_reps(music_shifted, diff_from_single, 10000)  # see dependencies for function\n",
    "\n",
    "# calculate the p-value\n",
    "p_value = np.sum(bs_replicates >= diff_observed) / len(bs_replicates)\n",
    "p_value"
   ]
  },
  {
   "cell_type": "markdown",
   "metadata": {},
   "source": [
    "## Visual: **ECDF**"
   ]
  },
  {
   "cell_type": "code",
   "execution_count": 153,
   "metadata": {},
   "outputs": [
    {
     "data": {
      "image/png": "[encoded data removed]",
      "text/plain": [
       "<Figure size 432x288 with 1 Axes>"
      ]
     },
     "metadata": {
      "needs_background": "light"
     },
     "output_type": "display_data"
    }
   ],
   "source": [
    "# see dependencies for ecdf\n",
    "\n",
    "# Generate CDFs\n",
    "x_globe, y_globe = ecdf(music_shifted)\n",
    "x_music, y_music = ecdf(lifexp_music)\n",
    "\n",
    "# Plot CDFs\n",
    "_ = plt.plot(x_globe, y_globe, marker = '.', linestyle = 'none')\n",
    "_ = plt.plot(x_music, y_music, marker = '.', linestyle = 'none')\n",
    "\n",
    "# Make a legend and show the plot\n",
    "_ = plt.legend(('Globe', 'Musicians'), loc='lower right')\n",
    "plt.show()"
   ]
  },
  {
   "cell_type": "markdown",
   "metadata": {},
   "source": [
    "## Visual: **Histograms**"
   ]
  },
  {
   "cell_type": "code",
   "execution_count": 189,
   "metadata": {},
   "outputs": [
    {
     "data": {
      "image/png": "[encoded data removed]",
      "text/plain": [
       "<Figure size 432x288 with 1 Axes>"
      ]
     },
     "metadata": {},
     "output_type": "display_data"
    }
   ],
   "source": [
    "# Define plot parameters\n",
    "sns.set()\n",
    "_ = plt.hist(lifexp_music, bins = 10)  # plt.hist will return three arrays, only want plot so use dummy variable \n",
    "_ = plt.axvline(x= np.mean(lifexp_music), color = \"red\")\n",
    "_ = plt.ylabel('Count')\n",
    "_ = plt.xlabel('Age At Death')\n",
    "\n",
    "# Show the plot\n",
    "plt.show()"
   ]
  },
  {
   "cell_type": "markdown",
   "metadata": {},
   "source": [
    "### Dependencies"
   ]
  },
  {
   "cell_type": "code",
   "execution_count": null,
   "metadata": {},
   "outputs": [],
   "source": [
    "import pandas as pd  # needed for dataframes / reading data\n",
    "import numpy as np  # needed for arrays\n",
    "import seaborn as sns  # needed for histograms"
   ]
  },
  {
   "cell_type": "code",
   "execution_count": 57,
   "metadata": {},
   "outputs": [],
   "source": [
    "def ecdf(data):\n",
    "    \"\"\"\n",
    "    Compute ECDF for a one-dimensional array of measurements\n",
    "    \"\"\"\n",
    "    \n",
    "    # Number of data points: n\n",
    "    n = len(data)\n",
    "    \n",
    "    # sorted values\n",
    "    x = np.sort(data)\n",
    "    \n",
    "    # evenly spaced datapoints with the maximum of 1\n",
    "    y = np.arange(1, n+1) / n\n",
    "    \n",
    "    return x,y"
   ]
  },
  {
   "cell_type": "code",
   "execution_count": 60,
   "metadata": {},
   "outputs": [],
   "source": [
    "# v001\n",
    "\n",
    "def array_details(data, array_details = {}):\n",
    "    \"\"\"\n",
    "    Return details about each column in a dataframe\n",
    "    \"\"\"\n",
    "    \n",
    "    import numpy as np\n",
    "\n",
    "    array_type = type(data[0])\n",
    "    array_count = len(data)\n",
    "    array_miss = np.count_nonzero(~np.isnan(data))\n",
    "    array_num_unique = len(np.unique(data))  # how many unique values? \n",
    "    array_min = np.min(data)  # minimum\n",
    "    array_max = np.max(data)  # maximum\n",
    "    array_mean = np.mean(data)  # average\n",
    "    array_std = np.std(data)  # standard deviation\n",
    "    \n",
    "    array_details_keys = ['Type','Count', 'Miss','Num_Uniq','Min','Max','Mean','Std']\n",
    "    array_details_values = [array_type, \n",
    "                            array_count, \n",
    "                            array_miss, \n",
    "                            array_num_unique,\n",
    "                           array_min,\n",
    "                           array_max,\n",
    "                           array_mean,\n",
    "                           array_std]\n",
    "    \n",
    "    array_details = dict(zip(array_details_keys, array_details_values))\n",
    "    \n",
    "    return array_details"
   ]
  },
  {
   "cell_type": "code",
   "execution_count": 146,
   "metadata": {},
   "outputs": [],
   "source": [
    "# test statistic is the mean of the bootstrap sample minus Newcomb's value\n",
    "def diff_from_single(data, single = 72.32):\n",
    "    \"\"\"\n",
    "    Find difference in mean of data from a single mean observation\n",
    "    \"\"\"\n",
    "    return abs(single - np.mean(data))"
   ]
  },
  {
   "cell_type": "code",
   "execution_count": 119,
   "metadata": {},
   "outputs": [],
   "source": [
    "def draw_bs_reps(data, func, size=1):\n",
    "    \"\"\"\n",
    "    Draw bootstrap replicates.\n",
    "    \"\"\"\n",
    "\n",
    "    # Initialize array of replicates: bs_replicates\n",
    "    bs_replicates = np.empty(size)\n",
    "\n",
    "    # Generate replicates\n",
    "    for i in range(size):\n",
    "        bs_replicates[i] = bootstrap_replicate_1d(data, func)\n",
    "\n",
    "    return bs_replicates"
   ]
  },
  {
   "cell_type": "code",
   "execution_count": 121,
   "metadata": {},
   "outputs": [],
   "source": [
    "def bootstrap_replicate_1d(data, func):\n",
    "    \"\"\"\n",
    "    Generate bootstrap replicate of 1D data.\n",
    "    \"\"\"\n",
    "    \n",
    "    bs_sample = np.random.choice(data, len(data))\n",
    "    \n",
    "    return func(bs_sample)"
   ]
  }
 ],
 "metadata": {
  "kernelspec": {
   "display_name": "Python 3",
   "language": "python",
   "name": "python3"
  },
  "language_info": {
   "codemirror_mode": {
    "name": "ipython",
    "version": 3
   },
   "file_extension": ".py",
   "mimetype": "text/x-python",
   "name": "python",
   "nbconvert_exporter": "python",
   "pygments_lexer": "ipython3",
   "version": "3.7.3"
  }
 },
 "nbformat": 4,
 "nbformat_minor": 2
}
