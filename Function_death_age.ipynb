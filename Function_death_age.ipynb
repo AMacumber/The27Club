{
 "cells": [
  {
   "cell_type": "code",
   "execution_count": 18,
   "metadata": {},
   "outputs": [],
   "source": [
    "def death_age(page_list):\n",
    "    \"\"\"\n",
    "    Given a list of wikipedia page names, return a dictionary = ['Person Name']:Age at death\n",
    "    \"\"\"\n",
    "    \n",
    "    # Requirements\n",
    "    import pandas as pd\n",
    "    \n",
    "    # Create an empty dictionary to be filled\n",
    "    age_at_death = {}\n",
    "    \n",
    "    for page in page_list:\n",
    "        \n",
    "        try:\n",
    "            person_dates = person_born_dead(page)\n",
    "            \n",
    "            if len(person_dates.values()) == 2:  # only if both birth and death date are present\n",
    "                birth = pd.to_datetime(person_dates['Born'])\n",
    "                death = pd.to_datetime(person_dates['Dead'])\n",
    "                \n",
    "                death_age = calculate_age(birth, death)  # factoring for partial years calculate age at death\n",
    "                \n",
    "                age_at_death[page] = death_age  # add an element to the dictionary\n",
    "                    \n",
    "        except:\n",
    "            continue  # skip page if doesn't have birth and death date\n",
    "        \n",
    "    return age_at_death"
   ]
  },
  {
   "cell_type": "markdown",
   "metadata": {},
   "source": [
    "## Dependencies"
   ]
  },
  {
   "cell_type": "code",
   "execution_count": 25,
   "metadata": {},
   "outputs": [],
   "source": [
    "def person_born_dead(person_name):\n",
    "    \"\"\"\n",
    "    Provided with a Wikipedia Page Name (str) (e.g., 'Jim Morrison')\n",
    "    Return a set(Date born, Date died)\n",
    "    \"\"\"\n",
    "    import requests\n",
    "    import re\n",
    "    \n",
    "    try:\n",
    "        wiki_url = create_wiki_url(person_name)\n",
    "    except:\n",
    "        print(person_name, \"Error. Check create_wiki_url()\")\n",
    "        \n",
    "    try:\n",
    "        text = scrape_wiki_page(wiki_url)\n",
    "    except:\n",
    "        print(person_name, \"Error. Check scrape_wiki_page()\")\n",
    "    \n",
    "    try:\n",
    "        page_slice = return_page_slice(text)\n",
    "    except:\n",
    "        print(person_name, \"Check out: return_page_slice()\")\n",
    "    \n",
    "    try:\n",
    "        # create an empty set to have dates added to; set protects against dups\n",
    "        dates = []\n",
    "        dates_dict = {}\n",
    "        \n",
    "        pattern01 = re.compile(r'\\b\\w{3,9}\\s\\d{1,2}\\W\\s\\d{4}')  # Month Date, Year\n",
    "        pattern02 = re.compile(r'\\b\\d{1,2}\\s\\w{3,9}\\s\\d{4}')  # Date Month Year\n",
    "        \n",
    "        titles = ('Born', 'Dead')\n",
    "        matches01 = pattern01.finditer(page_slice)\n",
    "        \n",
    "        for match in matches01:\n",
    "            dates.append(match.group(0))\n",
    "            \n",
    "        dates_tuple = tuple(dates)\n",
    "        \n",
    "        for title, match in zip(titles, dates_tuple):\n",
    "            dates_dict[title] = match\n",
    "                      \n",
    "        \n",
    "        if len(dates) == 0:\n",
    "            \n",
    "            matches02 = pattern02.finditer(page_slice)\n",
    "            \n",
    "            for match in matches01:\n",
    "                dates.append(match.group(0))\n",
    "                \n",
    "                dates_tuple = tuple(dates)\n",
    "                \n",
    "                for title, match in zip(titles, dates_tuple):\n",
    "                    dates_dict[title] = match\n",
    "                \n",
    "        return dates_dict\n",
    "    \n",
    "    except:\n",
    "        print(person_name, \"is not a human! function: person_born_dead\")"
   ]
  },
  {
   "cell_type": "code",
   "execution_count": 20,
   "metadata": {},
   "outputs": [],
   "source": [
    "def create_wiki_url(page_name):\n",
    "    \"\"\"\n",
    "    Given a wikipedia page name, return a url address\n",
    "    \"\"\"\n",
    "    \n",
    "    url = \"http://en.wikipedia.org/wiki/\"\n",
    "        \n",
    "    format_page_name = page_name.strip().replace(\" \",\"_\")\n",
    "    wiki_url = url + format_page_name\n",
    "        \n",
    "    return wiki_url"
   ]
  },
  {
   "cell_type": "code",
   "execution_count": 21,
   "metadata": {},
   "outputs": [],
   "source": [
    "def scrape_wiki_page(wiki_url):\n",
    "    \"\"\"\n",
    "    Given wikipedia url, return scraped text\n",
    "    \"\"\"\n",
    "    \n",
    "    import requests\n",
    "\n",
    "    wiki_page = requests.get(wiki_url)\n",
    "    wiki_page_text = wiki_page.text\n",
    "    \n",
    "    return wiki_page_text"
   ]
  },
  {
   "cell_type": "code",
   "execution_count": 22,
   "metadata": {},
   "outputs": [],
   "source": [
    "def return_page_slice(text, start_point = \"Born\", end_point = 1000):\n",
    "    \"\"\"\n",
    "    Given scraped html page and a start point\n",
    "    Return a page slice\n",
    "    \"\"\"\n",
    "\n",
    "    start = text.find(start_point) + len(start_point)\n",
    "    end = start + end_point\n",
    "    page_slice = text[start:end] #slice after born\n",
    "        \n",
    "    return page_slice"
   ]
  },
  {
   "cell_type": "code",
   "execution_count": 23,
   "metadata": {},
   "outputs": [],
   "source": [
    "# code source: https://stackoverflow.com/questions/2217488/age-from-birthdate-in-python\n",
    "\n",
    "def calculate_age(born, died):\n",
    "    \"\"\"\n",
    "    Give date at birth and death, return age\n",
    "    \"\"\"\n",
    "    \n",
    "    from datetime import date\n",
    "    \n",
    "    age_at_death = died.year - born.year - ((died.month, died.day) < (born.month, born.day))\n",
    "    \n",
    "    return age_at_death"
   ]
  },
  {
   "cell_type": "markdown",
   "metadata": {},
   "source": [
    "## Execute"
   ]
  },
  {
   "cell_type": "code",
   "execution_count": 14,
   "metadata": {},
   "outputs": [],
   "source": [
    "page_list = ['Jim Morrison', 'Janis Joplin', 'Arabinda Muduli', 'Rod Stewart', 'Nevermind', 'Ludvig van Beethoven', 'Paul Banks (American musician)']"
   ]
  },
  {
   "cell_type": "code",
   "execution_count": 32,
   "metadata": {},
   "outputs": [
    {
     "data": {
      "text/plain": [
       "{'Jim Morrison': 27, 'Janis Joplin': 27}"
      ]
     },
     "execution_count": 32,
     "metadata": {},
     "output_type": "execute_result"
    }
   ],
   "source": [
    "death_age(page_list)"
   ]
  }
 ],
 "metadata": {
  "kernelspec": {
   "display_name": "Python 3",
   "language": "python",
   "name": "python3"
  },
  "language_info": {
   "codemirror_mode": {
    "name": "ipython",
    "version": 3
   },
   "file_extension": ".py",
   "mimetype": "text/x-python",
   "name": "python",
   "nbconvert_exporter": "python",
   "pygments_lexer": "ipython3",
   "version": "3.7.3"
  }
 },
 "nbformat": 4,
 "nbformat_minor": 2
}
