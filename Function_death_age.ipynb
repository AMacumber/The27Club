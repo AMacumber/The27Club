{
 "cells": [
  {
   "cell_type": "code",
   "execution_count": null,
   "metadata": {},
   "outputs": [],
   "source": [
    "def death_age(page_list):\n",
    "    \"\"\"\n",
    "    Given a list of wikipedia page names, return a dictionary = ['Person Name']:Age at death\n",
    "    \"\"\"\n",
    "    \n",
    "    # Requirements\n",
    "    import pandas as pd\n",
    "    \n",
    "    # Create an empty dictionary to be filled\n",
    "    age_at_death = {}\n",
    "    \n",
    "    for page in page_list:\n",
    "        \n",
    "        try:\n",
    "            person_dates = person_born_dead(page)  # returns list(birth date, death date)\n",
    "            \n",
    "            if len(person_dates) == 2:  # only if both birth and death date are present\n",
    "                birth = pd.to_datetime(person_dates[0])\n",
    "                death = pd.to_datetime(person_dates[1])\n",
    "                \n",
    "                death_age = calculate_age(birth, death)  # factoring for partial years calculate age at death\n",
    "                \n",
    "                age_at_death[page] = death_age  # add an element to the dictionary\n",
    "                    \n",
    "        except:\n",
    "            continue  # skip page if doesn't have birth and death date\n",
    "        \n",
    "    return age_at_death"
   ]
  }
 ],
 "metadata": {
  "kernelspec": {
   "display_name": "Python 3",
   "language": "python",
   "name": "python3"
  },
  "language_info": {
   "codemirror_mode": {
    "name": "ipython",
    "version": 3
   },
   "file_extension": ".py",
   "mimetype": "text/x-python",
   "name": "python",
   "nbconvert_exporter": "python",
   "pygments_lexer": "ipython3",
   "version": "3.7.3"
  }
 },
 "nbformat": 4,
 "nbformat_minor": 2
}
