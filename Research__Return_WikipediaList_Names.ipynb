{
 "cells": [
  {
   "cell_type": "markdown",
   "metadata": {},
   "source": [
    "# Return a list of names from Wikipedia\n",
    "\n",
    "The input for 'Return_death_dates' is a list of names. I need to query the Wikipedia API and return a list of names. Ideally this should be a list of all people on wikipedia. Extra desirable information is profession (i.e., muscician), music genre, success.\n",
    "\n",
    "## Use the Wikipedia API"
   ]
  },
  {
   "cell_type": "code",
   "execution_count": 1,
   "metadata": {},
   "outputs": [],
   "source": [
    "import wikipediaapi\n",
    "\n",
    "wiki_en = wikipediaapi.Wikipedia('en')  # call an instance of english"
   ]
  },
  {
   "cell_type": "markdown",
   "metadata": {},
   "source": [
    "## Explore .categories"
   ]
  },
  {
   "cell_type": "code",
   "execution_count": 18,
   "metadata": {},
   "outputs": [
    {
     "data": {
      "text/plain": [
       "\"Using the .page() method on a Category returns a <class 'wikipediaapi.WikipediaPage'>.\""
      ]
     },
     "execution_count": 18,
     "metadata": {},
     "output_type": "execute_result"
    }
   ],
   "source": [
    "cat_Musicians_page = wiki_en.page(\"Category:Musicians\")\n",
    "\n",
    "f'Using the .page() method on a Category returns a {type(cat_Musicians_page)}.'"
   ]
  },
  {
   "cell_type": "code",
   "execution_count": 19,
   "metadata": {},
   "outputs": [
    {
     "data": {
      "text/plain": [
       "\"We can then use the attribute .categorymembers to return a <class 'dict'>\""
      ]
     },
     "execution_count": 19,
     "metadata": {},
     "output_type": "execute_result"
    }
   ],
   "source": [
    "cat_Musicians_members = cat_Musicians_page.categorymembers\n",
    "\n",
    "f'We can then use the attribute .categorymembers to return a {type(cat_Musicians_members)}'"
   ]
  },
  {
   "cell_type": "code",
   "execution_count": 21,
   "metadata": {},
   "outputs": [
    {
     "data": {
      "text/plain": [
       "\"The dictionary has 65 elements of the following form: ('Category:Singers', Category:Singers (id: ??, ns: 14))\""
      ]
     },
     "execution_count": 21,
     "metadata": {},
     "output_type": "execute_result"
    }
   ],
   "source": [
    "length = len(list(cat_Musicians_members.keys())) # number of keys in dict\n",
    "\n",
    "import random\n",
    "\n",
    "onesample = random.choice(list(cat_Musicians_members.items()))\n",
    "\n",
    "f'The dictionary has {length} elements of the following form: {onesample}'"
   ]
  },
  {
   "cell_type": "markdown",
   "metadata": {},
   "source": [
    "Of note is the tuple that includes 'ns'. This tells us that there are 14 more levels that we can dig.\n",
    "\n",
    "## Define a function to return a dictionary of category members"
   ]
  },
  {
   "cell_type": "code",
   "execution_count": 2,
   "metadata": {},
   "outputs": [],
   "source": [
    "def wiki_cat_dictionary(wiki_Category):\n",
    "    \"\"\"\n",
    "    Using a category input, return a dictionary.\n",
    "    Dictionary contains category members\n",
    "    \n",
    "    category syntax == \"Category:Musicians\"\n",
    "    \"\"\"\n",
    "    wiki_en = wikipediaapi.Wikipedia('en')\n",
    "    \n",
    "    return wiki_en.page(wiki_Category).categorymembers"
   ]
  },
  {
   "cell_type": "markdown",
   "metadata": {},
   "source": [
    "This includes base members (ns = 0) and category members (ns > 0)"
   ]
  },
  {
   "cell_type": "code",
   "execution_count": 292,
   "metadata": {},
   "outputs": [
    {
     "data": {
      "text/plain": [
       "{'Musician': Musician (id: ??, ns: 0),\n",
       " 'Songster': Songster (id: ??, ns: 0),\n",
       " 'Troubadour': Troubadour (id: ??, ns: 0),\n",
       " 'Virtuoso': Virtuoso (id: ??, ns: 0),\n",
       " 'Category:Musicians by band': Category:Musicians by band (id: ??, ns: 14),\n",
       " 'Category:Musicians by century': Category:Musicians by century (id: ??, ns: 14),\n",
       " 'Category:Musicians by genre': Category:Musicians by genre (id: ??, ns: 14),\n",
       " 'Category:Musicians by geographical categorization': Category:Musicians by geographical categorization (id: ??, ns: 14),\n",
       " 'Category:Musicians by instrument': Category:Musicians by instrument (id: ??, ns: 14),\n",
       " 'Category:Artists by record label': Category:Artists by record label (id: ??, ns: 14),\n",
       " 'Category:Musicians of Indian descent': Category:Musicians of Indian descent (id: ??, ns: 14),\n",
       " 'Category:Musicians of Iranian descent': Category:Musicians of Iranian descent (id: ??, ns: 14),\n",
       " 'Category:Lists of musicians': Category:Lists of musicians (id: ??, ns: 14),\n",
       " 'Category:Musical groups': Category:Musical groups (id: ??, ns: 14),\n",
       " 'Category:Female musicians': Category:Female musicians (id: ??, ns: 14),\n",
       " 'Category:Male musicians': Category:Male musicians (id: ??, ns: 14),\n",
       " 'Category:Musicians with physical disabilities': Category:Musicians with physical disabilities (id: ??, ns: 14),\n",
       " 'Category:Accompanists': Category:Accompanists (id: ??, ns: 14),\n",
       " 'Category:Alt-right musicians': Category:Alt-right musicians (id: ??, ns: 14),\n",
       " 'Category:Anime musicians': Category:Anime musicians (id: ??, ns: 14),\n",
       " 'Category:Music arrangers': Category:Music arrangers (id: ??, ns: 14),\n",
       " 'Category:Music award winners': Category:Music award winners (id: ??, ns: 14),\n",
       " 'Category:Ballad musicians': Category:Ballad musicians (id: ??, ns: 14),\n",
       " 'Category:Bandleaders': Category:Bandleaders (id: ??, ns: 14),\n",
       " 'Category:Books about musicians': Category:Books about musicians (id: ??, ns: 14),\n",
       " 'Category:Buskers': Category:Buskers (id: ??, ns: 14),\n",
       " 'Category:Musician castes': Category:Musician castes (id: ??, ns: 14),\n",
       " 'Category:Child musicians': Category:Child musicians (id: ??, ns: 14),\n",
       " 'Category:Music competition participants': Category:Music competition participants (id: ??, ns: 14),\n",
       " 'Category:Composers': Category:Composers (id: ??, ns: 14),\n",
       " 'Category:Cover artists': Category:Cover artists (id: ??, ns: 14),\n",
       " 'Category:Musicians who died on stage': Category:Musicians who died on stage (id: ??, ns: 14),\n",
       " 'Category:Music educators': Category:Music educators (id: ??, ns: 14),\n",
       " 'Category:Feminist musicians': Category:Feminist musicians (id: ??, ns: 14),\n",
       " 'Category:Fictional musicians': Category:Fictional musicians (id: ??, ns: 14),\n",
       " 'Category:Indigenous musicians': Category:Indigenous musicians (id: ??, ns: 14),\n",
       " 'Category:Musicians awarded knighthoods': Category:Musicians awarded knighthoods (id: ??, ns: 14),\n",
       " 'Category:LGBT musicians': Category:LGBT musicians (id: ??, ns: 14),\n",
       " 'Category:March musicians': Category:March musicians (id: ??, ns: 14),\n",
       " 'Category:Masked musicians': Category:Masked musicians (id: ??, ns: 14),\n",
       " 'Category:Medieval musicians': Category:Medieval musicians (id: ??, ns: 14),\n",
       " 'Category:Military musicians': Category:Military musicians (id: ??, ns: 14),\n",
       " 'Category:Murdered musicians': Category:Murdered musicians (id: ??, ns: 14),\n",
       " 'Category:Music instrument endorsement lists': Category:Music instrument endorsement lists (id: ??, ns: 14),\n",
       " 'Category:Music YouTubers': Category:Music YouTubers (id: ??, ns: 14),\n",
       " 'Category:Musical families': Category:Musical families (id: ??, ns: 14),\n",
       " 'Category:Musicians of the Chapel Royal': Category:Musicians of the Chapel Royal (id: ??, ns: 14),\n",
       " 'Category:One-man bands': Category:One-man bands (id: ??, ns: 14),\n",
       " 'Category:Orchestra leaders': Category:Orchestra leaders (id: ??, ns: 14),\n",
       " 'Category:Musicians who were peers': Category:Musicians who were peers (id: ??, ns: 14),\n",
       " 'Category:Cultural depictions of musicians': Category:Cultural depictions of musicians (id: ??, ns: 14),\n",
       " 'Category:Record producers': Category:Record producers (id: ??, ns: 14),\n",
       " 'Category:Robot musicians': Category:Robot musicians (id: ??, ns: 14),\n",
       " 'Category:Session musicians': Category:Session musicians (id: ??, ns: 14),\n",
       " 'Category:Singers': Category:Singers (id: ??, ns: 14),\n",
       " 'Category:Musicians by software': Category:Musicians by software (id: ??, ns: 14),\n",
       " 'Category:Songwriters': Category:Songwriters (id: ??, ns: 14),\n",
       " 'Category:Sports musicians': Category:Sports musicians (id: ??, ns: 14),\n",
       " 'Category:Statues of musicians': Category:Statues of musicians (id: ??, ns: 14),\n",
       " 'Category:Musicians who committed suicide': Category:Musicians who committed suicide (id: ??, ns: 14),\n",
       " 'Category:Tribute acts': Category:Tribute acts (id: ??, ns: 14),\n",
       " 'Category:Works by musician': Category:Works by musician (id: ??, ns: 14),\n",
       " 'Category:Images of musicians': Category:Images of musicians (id: ??, ns: 14),\n",
       " 'Category:Musician stubs': Category:Musician stubs (id: ??, ns: 14),\n",
       " 'Category:Wikipedia categories named after musicians': Category:Wikipedia categories named after musicians (id: ??, ns: 14)}"
      ]
     },
     "execution_count": 292,
     "metadata": {},
     "output_type": "execute_result"
    }
   ],
   "source": [
    "wiki_cat_dictionary('Category:Musicians')"
   ]
  },
  {
   "cell_type": "markdown",
   "metadata": {},
   "source": [
    "This includes only category members (ns > 0)"
   ]
  },
  {
   "cell_type": "code",
   "execution_count": 285,
   "metadata": {},
   "outputs": [
    {
     "name": "stdout",
     "output_type": "stream",
     "text": [
      "Category:LGBT musicians from Algeria\n",
      "Category:LGBT musicians from Argentina\n",
      "Category:LGBT musicians from Australia\n",
      "Category:LGBT musicians from Belgium\n",
      "Category:LGBT musicians from Brazil\n",
      "Category:LGBT musicians from Bulgaria\n",
      "Category:LGBT musicians from Canada\n",
      "Category:LGBT musicians from Chile\n",
      "Category:LGBT musicians from China\n",
      "Category:LGBT musicians from Cuba\n",
      "Category:LGBT musicians from Denmark\n",
      "Category:LGBT musicians from Finland\n",
      "Category:LGBT musicians from France\n",
      "Category:LGBT musicians from Germany\n",
      "Category:LGBT musicians from Hong Kong\n",
      "Category:LGBT musicians from Iceland\n",
      "Category:LGBT musicians from Ireland\n",
      "Category:LGBT musicians from Israel\n",
      "Category:LGBT musicians from Italy\n",
      "Category:LGBT musicians from Japan\n",
      "Category:LGBT musicians from the Philippines\n",
      "Category:LGBT musicians from the Netherlands\n",
      "Category:LGBT musicians from New Zealand\n",
      "Category:LGBT musicians from Norway\n",
      "Category:LGBT musicians from Poland\n",
      "Category:LGBT musicians from Russia\n",
      "Category:LGBT musicians from South Africa\n",
      "Category:LGBT musicians from Sweden\n",
      "Category:LGBT musicians from Switzerland\n",
      "Category:LGBT musicians from the United Kingdom\n",
      "Category:LGBT musicians from the United States\n"
     ]
    }
   ],
   "source": [
    "for c in wiki_cat_dictionary('Category:LGBT musicians by nationality').values():\n",
    "    if c.title[0:8] == 'Category':\n",
    "        print(c.title)"
   ]
  },
  {
   "cell_type": "markdown",
   "metadata": {},
   "source": [
    "## Define a function to return all base category members\n",
    "\n",
    "This will reflect musicians if we choose appropriate categories to start with."
   ]
  },
  {
   "cell_type": "code",
   "execution_count": 277,
   "metadata": {},
   "outputs": [],
   "source": [
    "def list_bottomcategorymembers(categorymembers, return_list, parent_list):\n",
    "    \"\"\"\n",
    "    Using a dictionary of wikipedia page category members, return a list of all bottom category members (ns == 0)\n",
    "    Provide an empty list that will be populated with bottom category members (return_list)\n",
    "    Provide an empty list that will be populated with parent categories (parent_list)\n",
    "    \"\"\"\n",
    "           \n",
    "    seen = set(return_list)  # functionality to prevent duplicates; code source: https://stackoverflow.com/questions/19834806/is-there-a-more-pythonic-way-to-prevent-adding-a-duplicate-to-a-list\n",
    "    \n",
    "    for c in categorymembers.values():\n",
    "        \n",
    "        # check for duplicates\n",
    "        if c.title not in seen:\n",
    "               \n",
    "            if c.ns == 0:\n",
    "                return_list.append(c.title)\n",
    "\n",
    "            else:\n",
    "                # sometimes category members do not begin with 'Category'; will result in read time error\n",
    "                if c.title[0:8] != 'Category':\n",
    "                    continue\n",
    "\n",
    "                # some artists have categories; not interested in digging deeper\n",
    "                if c.title == parent_list[-1]:\n",
    "                    continue\n",
    "\n",
    "                # some categories are empty; will result in read time error\n",
    "                if wiki_cat_dictionary(c.title) == {}:\n",
    "                    continue\n",
    "\n",
    "                # keep track of previous categories - helps with debugging\n",
    "                parent_list.append(c.title)\n",
    "                \n",
    "                # keep digging down\n",
    "                list_bottomcategorymembers(c.categorymembers, return_list, parent_list)\n",
    "            \n",
    "    return return_list"
   ]
  },
  {
   "cell_type": "markdown",
   "metadata": {},
   "source": [
    "## Execute\n",
    "\n",
    "Define an empty list 'return_list' this will be filled with base category members. The parent list will keep track of of categories. Handy for troubleshooting and avoiding musicians that have non-base categories (e.g, Bruce Springsteen)."
   ]
  },
  {
   "cell_type": "code",
   "execution_count": 290,
   "metadata": {},
   "outputs": [],
   "source": [
    "return_list = []\n",
    "parent_list = [-99]"
   ]
  },
  {
   "cell_type": "code",
   "execution_count": 291,
   "metadata": {},
   "outputs": [],
   "source": [
    "male_musicians = list_bottomcategorymembers(wiki_cat_dictionary('Category:Male musicians by nationality'), return_list, parent_list)"
   ]
  },
  {
   "cell_type": "code",
   "execution_count": 293,
   "metadata": {},
   "outputs": [],
   "source": [
    "female_musicians = list_bottomcategorymembers(wiki_cat_dictionary('Category:Female musicians by nationality'), return_list, parent_list)"
   ]
  },
  {
   "cell_type": "code",
   "execution_count": 294,
   "metadata": {},
   "outputs": [],
   "source": [
    "lgbt_musicians = list_bottomcategorymembers(wiki_cat_dictionary('Category:LGBT musicians by nationality'), return_list, parent_list)"
   ]
  },
  {
   "cell_type": "code",
   "execution_count": 297,
   "metadata": {},
   "outputs": [
    {
     "data": {
      "text/plain": [
       "'The Wikipedia API returned 76326 musicians.'"
      ]
     },
     "execution_count": 297,
     "metadata": {},
     "output_type": "execute_result"
    }
   ],
   "source": [
    "f'The Wikipedia API returned {len(lgbt_musicians)} musicians.'"
   ]
  },
  {
   "cell_type": "markdown",
   "metadata": {},
   "source": [
    "The following can be used to inspect the results."
   ]
  },
  {
   "cell_type": "code",
   "execution_count": 220,
   "metadata": {},
   "outputs": [
    {
     "data": {
      "text/plain": [
       "['Brianna Thomas',\n",
       " 'Tracie Thoms',\n",
       " 'Amelia Tilghman',\n",
       " 'Linda Tillery',\n",
       " 'Barbara Johnson Tucker',\n",
       " 'Lisa Tucker (singer)',\n",
       " 'Leslie Uggams',\n",
       " 'Stephanie Umoh',\n",
       " 'Charenee Wade',\n",
       " 'Ella Washington',\n",
       " 'Rose Weaver',\n",
       " 'Jane White',\n",
       " 'Lillias White',\n",
       " 'Terri White',\n",
       " 'Alyson Williams',\n",
       " 'Thomasina Winslow',\n",
       " 'Carol Woods',\n",
       " 'Renn Woods',\n",
       " 'Norma Jean Wright',\n",
       " 'Wynter Gordon']"
      ]
     },
     "execution_count": 220,
     "metadata": {},
     "output_type": "execute_result"
    }
   ],
   "source": [
    "return_list[-20:]"
   ]
  },
  {
   "cell_type": "code",
   "execution_count": 282,
   "metadata": {},
   "outputs": [
    {
     "data": {
      "text/plain": [
       "['Category:Ugandan female musicians',\n",
       " 'Category:Ugandan female singers',\n",
       " 'Category:Ugandan girl groups',\n",
       " 'Category:Ukrainian female musicians',\n",
       " 'Category:Ukrainian female singers',\n",
       " 'Category:Ukrainian contraltos',\n",
       " 'Category:Ukrainian mezzo-sopranos',\n",
       " 'Category:Ukrainian sopranos',\n",
       " 'Category:Ukrainian operatic sopranos',\n",
       " 'Category:Ukrainian girl groups',\n",
       " 'Category:Ukrainian women pianists',\n",
       " 'Category:Venezuelan female musicians',\n",
       " 'Category:Venezuelan female composers',\n",
       " 'Category:Venezuelan female classical composers',\n",
       " 'Category:Venezuelan female singers',\n",
       " 'Category:Venezuelan female singer-songwriters',\n",
       " 'Category:Venezuelan women pianists',\n",
       " 'Category:Vietnamese female musicians',\n",
       " 'Category:Vietnamese female singers',\n",
       " 'Category:Vietnamese female rappers']"
      ]
     },
     "execution_count": 282,
     "metadata": {},
     "output_type": "execute_result"
    }
   ],
   "source": [
    "parent_list[-20:]"
   ]
  }
 ],
 "metadata": {
  "kernelspec": {
   "display_name": "Python 3",
   "language": "python",
   "name": "python3"
  },
  "language_info": {
   "codemirror_mode": {
    "name": "ipython",
    "version": 3
   },
   "file_extension": ".py",
   "mimetype": "text/x-python",
   "name": "python",
   "nbconvert_exporter": "python",
   "pygments_lexer": "ipython3",
   "version": "3.7.3"
  }
 },
 "nbformat": 4,
 "nbformat_minor": 2
}
