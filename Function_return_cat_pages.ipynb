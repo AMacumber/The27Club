{
 "cells": [
  {
   "cell_type": "code",
   "execution_count": null,
   "metadata": {},
   "outputs": [],
   "source": [
    "def return_cat_pages(categories, return_list = [], parent_list = [-99]):\n",
    "    \n",
    "    \"\"\"\n",
    "    Returns all pages associated with provided categories.\n",
    "    Categories should be provided as (a list of) strings: 'LGBT musicians by nationality'\n",
    "    \"\"\"\n",
    "    \n",
    "    # create wikipedia api instance\n",
    "    import wikipediaapi\n",
    "    wiki_en = wikipediaapi.Wikipedia('en')\n",
    "    \n",
    "    for category in categories:\n",
    "        \n",
    "        # add 'Category:' before category name\n",
    "        wiki_category = format_wiki_cat(category)\n",
    "        \n",
    "        # does the page exist?\n",
    "        wiki_page_exist = does_wiki_exist(wiki_category)\n",
    "        \n",
    "        # Does wikipedia recognize the category?\n",
    "        if wiki_page_exist == True:\n",
    "                        \n",
    "            # return all category members. pages and categories\n",
    "            catmembers_dict = return_catmembers_dict(wiki_category)\n",
    "            \n",
    "            # return list of category members as pages only\n",
    "            catmembers_list(catmembers_dict, return_list, parent_list)\n",
    "            \n",
    "        else:\n",
    "            print(\"Does the\", wiki_category, \"exist?\", wiki_page_exist)\n",
    "     \n",
    "    return return_list"
   ]
  }
 ],
 "metadata": {
  "kernelspec": {
   "display_name": "Python 3",
   "language": "python",
   "name": "python3"
  },
  "language_info": {
   "codemirror_mode": {
    "name": "ipython",
    "version": 3
   },
   "file_extension": ".py",
   "mimetype": "text/x-python",
   "name": "python",
   "nbconvert_exporter": "python",
   "pygments_lexer": "ipython3",
   "version": "3.7.3"
  }
 },
 "nbformat": 4,
 "nbformat_minor": 2
}
