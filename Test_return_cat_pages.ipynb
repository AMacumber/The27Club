{
 "cells": [
  {
   "cell_type": "markdown",
   "metadata": {},
   "source": [
    "## Test return_cat_pages"
   ]
  },
  {
   "cell_type": "code",
   "execution_count": 5,
   "metadata": {},
   "outputs": [],
   "source": [
    "def return_cat_pages(categories, return_list = [], parent_list = [-99]):\n",
    "    \n",
    "    \"\"\"\n",
    "    Returns all pages associated with provided categories.\n",
    "    Categories should be provided as (a list of) strings: 'LGBT musicians by nationality'\n",
    "    \"\"\"\n",
    "    \n",
    "    # create wikipedia api instance\n",
    "    import wikipediaapi\n",
    "    wiki_en = wikipediaapi.Wikipedia('en')\n",
    "    \n",
    "    for category in categories:\n",
    "        \n",
    "        # add 'Category:' before category name\n",
    "        wiki_category = format_wiki_cat(category)\n",
    "        \n",
    "        # does the page exist?\n",
    "        wiki_page_exist = does_wiki_exist(wiki_category)\n",
    "        \n",
    "        # Does wikipedia recognize the category?\n",
    "        if wiki_page_exist == True:\n",
    "                        \n",
    "            # return all category members. pages and categories\n",
    "            catmembers_dict = return_catmembers_dict(wiki_category)\n",
    "            \n",
    "            # return list of category members as pages only\n",
    "            catmembers_list(catmembers_dict, return_list, parent_list)\n",
    "            \n",
    "        else:\n",
    "            print(\"Does the\", wiki_category, \"exist?\", wiki_page_exist)\n",
    "     \n",
    "    return return_list"
   ]
  },
  {
   "cell_type": "markdown",
   "metadata": {},
   "source": [
    "## Dependencies"
   ]
  },
  {
   "cell_type": "code",
   "execution_count": 6,
   "metadata": {},
   "outputs": [],
   "source": [
    "def format_wiki_cat(category):\n",
    "    \n",
    "    # add 'Category:' to proceed provided string\n",
    "    format_name = str('Category:' + str(category))\n",
    "    \n",
    "    return format_name"
   ]
  },
  {
   "cell_type": "code",
   "execution_count": 7,
   "metadata": {},
   "outputs": [],
   "source": [
    "def does_wiki_exist(name):\n",
    "    \"\"\"\n",
    "    Given a name, check to see if a wikipedia page with that name exists\n",
    "    \"\"\"\n",
    "    # create instance of wikipedia api\n",
    "    import wikipediaapi\n",
    "    wiki_en = wikipediaapi.Wikipedia('en')\n",
    "    \n",
    "    # get wikipedia page\n",
    "    wiki_page = wiki_en.page(name)\n",
    "    \n",
    "    # does wikipedia page exist\n",
    "    wiki_page_exist = wiki_page.exists()\n",
    "    \n",
    "    return wiki_page_exist"
   ]
  },
  {
   "cell_type": "code",
   "execution_count": 8,
   "metadata": {},
   "outputs": [],
   "source": [
    "def return_catmembers_dict(page_name):\n",
    "    \"\"\"\n",
    "    Given page name, return category members as dict\n",
    "    \"\"\"\n",
    "    \n",
    "    import wikipediaapi\n",
    "    wiki_en = wikipediaapi.Wikipedia('en')\n",
    "    \n",
    "    wiki_page = wiki_en.page(page_name)\n",
    "    catmembers_dict = wiki_page.categorymembers\n",
    "    \n",
    "    return catmembers_dict"
   ]
  },
  {
   "cell_type": "code",
   "execution_count": 9,
   "metadata": {},
   "outputs": [],
   "source": [
    "def catmembers_list(categorymembers, return_list, parent_list):\n",
    "    \"\"\"\n",
    "    Using a dictionary of wikipedia page category members, return a list of all bottom category members (ns == 0)\n",
    "    Provide an empty list that will be populated with bottom category members (return_list)\n",
    "    Provide an empty list that will be populated with parent categories (parent_list)\n",
    "    \"\"\"\n",
    "    \n",
    "    import wikipediaapi\n",
    "    wiki_en = wikipediaapi.Wikipedia('en')\n",
    "    \n",
    "    seen = set(return_list)  # functionality to prevent duplicates; code source: https://stackoverflow.com/questions/19834806/is-there-a-more-pythonic-way-to-prevent-adding-a-duplicate-to-a-list\n",
    "    \n",
    "    for c in categorymembers.values():\n",
    "        \n",
    "        # check for duplicates\n",
    "        if c.title not in seen:\n",
    "               \n",
    "            if c.ns == 0:\n",
    "                return_list.append(c.title)\n",
    "\n",
    "            else:\n",
    "                # sometimes category members do not begin with 'Category'; will result in read time error\n",
    "                if c.title[0:8] != 'Category':\n",
    "                    continue\n",
    "\n",
    "                # some artists have categories; not interested in digging deeper\n",
    "                if c.title == parent_list[-1]:\n",
    "                    continue\n",
    "\n",
    "                # some categories are empty; will result in read time error\n",
    "                wiki_page = wiki_en.page(c.title)\n",
    "                catmembers_dict = wiki_page.categorymembers\n",
    "                if catmembers_dict == {}:\n",
    "                    continue\n",
    "\n",
    "                # keep track of previous categories - helps with debugging\n",
    "                parent_list.append(c.title)\n",
    "                \n",
    "                # keep digging down\n",
    "                catmembers_list(c.categorymembers, return_list, parent_list)\n",
    "            \n",
    "    return return_list"
   ]
  },
  {
   "cell_type": "markdown",
   "metadata": {},
   "source": [
    "## Test **Expand outside the test category list**\n",
    "\n",
    "### Load priors"
   ]
  },
  {
   "cell_type": "code",
   "execution_count": 17,
   "metadata": {},
   "outputs": [],
   "source": [
    "category = 'Female musicians by nationality'"
   ]
  },
  {
   "cell_type": "code",
   "execution_count": 18,
   "metadata": {},
   "outputs": [],
   "source": [
    "import wikipediaapi\n",
    "wiki_en = wikipediaapi.Wikipedia('en')\n",
    "\n",
    "try:\n",
    "    # add 'Category:' before category name\n",
    "    wiki_category = format_wiki_cat(category)\n",
    "except:\n",
    "    print(\"Error! Check format_wiki_cat()\")\n",
    "\n",
    "try:\n",
    "    # does the page exist?\n",
    "    wiki_page_exist = does_wiki_exist(wiki_category)\n",
    "except:\n",
    "    print(\"Error! Check does_wiki_exist()\")"
   ]
  },
  {
   "cell_type": "markdown",
   "metadata": {},
   "source": [
    "### Did it work?"
   ]
  },
  {
   "cell_type": "code",
   "execution_count": 19,
   "metadata": {},
   "outputs": [
    {
     "data": {
      "text/plain": [
       "True"
      ]
     },
     "execution_count": 19,
     "metadata": {},
     "output_type": "execute_result"
    }
   ],
   "source": [
    "wiki_page_exist"
   ]
  },
  {
   "cell_type": "code",
   "execution_count": 21,
   "metadata": {},
   "outputs": [],
   "source": [
    "catmembers_dict = return_catmembers_dict(wiki_category)"
   ]
  },
  {
   "cell_type": "code",
   "execution_count": 23,
   "metadata": {},
   "outputs": [],
   "source": [
    "return_list = []\n",
    "parent_list = [-99]\n",
    "\n",
    "catmember_pages = catmembers_list(catmembers_dict, return_list, parent_list)"
   ]
  },
  {
   "cell_type": "markdown",
   "metadata": {},
   "source": [
    "### Did it work?"
   ]
  },
  {
   "cell_type": "code",
   "execution_count": 24,
   "metadata": {},
   "outputs": [
    {
     "data": {
      "text/plain": [
       "26337"
      ]
     },
     "execution_count": 24,
     "metadata": {},
     "output_type": "execute_result"
    }
   ],
   "source": [
    "len(catmember_pages)"
   ]
  },
  {
   "cell_type": "markdown",
   "metadata": {},
   "source": [
    "## Test **Does filter reduce the number of returns**? "
   ]
  },
  {
   "cell_type": "code",
   "execution_count": 25,
   "metadata": {},
   "outputs": [],
   "source": [
    "def filter_wiki_cat(return_list, term):\n",
    "    filtered_list = []\n",
    "    \n",
    "    import wikipediaapi\n",
    "    wiki_en = wikipediaapi.Wikipedia('en')\n",
    "    \n",
    "    for name in return_list:\n",
    "        \n",
    "        wiki_page = wiki_en.page(name)\n",
    "        match_count = 0\n",
    "        \n",
    "        for category in wiki_page.categories:\n",
    "            find_term = category.find(term)\n",
    "            \n",
    "            if find_term > -1:\n",
    "                match_count = match_count + 1\n",
    "                \n",
    "        if match_count > -1:\n",
    "            filtered_list.append(name)\n",
    "            \n",
    "    return filtered_list"
   ]
  },
  {
   "cell_type": "code",
   "execution_count": 26,
   "metadata": {},
   "outputs": [],
   "source": [
    "filter_catmember_pages = filter_wiki_cat(catmember_pages, term = 'death')"
   ]
  },
  {
   "cell_type": "code",
   "execution_count": 29,
   "metadata": {},
   "outputs": [
    {
     "data": {
      "text/plain": [
       "'Did the filter work? False'"
      ]
     },
     "execution_count": 29,
     "metadata": {},
     "output_type": "execute_result"
    }
   ],
   "source": [
    "f'Did the filter work? {len(filter_catmember_pages) < len(catmember_pages)}'"
   ]
  },
  {
   "cell_type": "code",
   "execution_count": 27,
   "metadata": {},
   "outputs": [
    {
     "data": {
      "text/plain": [
       "26337"
      ]
     },
     "execution_count": 27,
     "metadata": {},
     "output_type": "execute_result"
    }
   ],
   "source": [
    "len(filter_catmember_pages)"
   ]
  }
 ],
 "metadata": {
  "kernelspec": {
   "display_name": "Python 3",
   "language": "python",
   "name": "python3"
  },
  "language_info": {
   "codemirror_mode": {
    "name": "ipython",
    "version": 3
   },
   "file_extension": ".py",
   "mimetype": "text/x-python",
   "name": "python",
   "nbconvert_exporter": "python",
   "pygments_lexer": "ipython3",
   "version": "3.7.3"
  }
 },
 "nbformat": 4,
 "nbformat_minor": 2
}
