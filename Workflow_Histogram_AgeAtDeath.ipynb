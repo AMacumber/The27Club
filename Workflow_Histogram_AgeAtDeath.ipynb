{
 "cells": [
  {
   "cell_type": "markdown",
   "metadata": {},
   "source": [
    "# Workflow: Histogram of musician ages at death (born 1945 - present)"
   ]
  },
  {
   "cell_type": "code",
   "execution_count": 1,
   "metadata": {},
   "outputs": [],
   "source": [
    "categories = ['Male musicians by nationality', 'Female musicians by nationality', 'LGBT musicians by nationality']"
   ]
  },
  {
   "cell_type": "markdown",
   "metadata": {},
   "source": [
    "## Workflow: Return list of category member pages"
   ]
  },
  {
   "cell_type": "markdown",
   "metadata": {},
   "source": [
    "**return_cat_pages** will take a list of categories as inputs and return all category members as a list of wikipedia page names."
   ]
  },
  {
   "cell_type": "code",
   "execution_count": 2,
   "metadata": {},
   "outputs": [],
   "source": [
    "def return_cat_pages(categories, return_list = [], parent_list = [-99]):\n",
    "    \n",
    "    \"\"\"\n",
    "    Returns all pages associated with provided categories.\n",
    "    Categories should be provided as (a list of) strings: 'LGBT musicians by nationality'\n",
    "    \"\"\"\n",
    "    \n",
    "    # create wikipedia api instance\n",
    "    import wikipediaapi\n",
    "    wiki_en = wikipediaapi.Wikipedia('en')\n",
    "    \n",
    "    for category in categories:\n",
    "        \n",
    "        # add 'Category:' before category name\n",
    "        wiki_category = format_wiki_cat(category)\n",
    "        \n",
    "        # does the page exist?\n",
    "        wiki_page_exist = does_wiki_exist(wiki_category)\n",
    "        \n",
    "        # Does wikipedia recognize the category?\n",
    "        if wiki_page_exist == True:\n",
    "                        \n",
    "            # return all category members. pages and categories\n",
    "            catmembers_dict = return_catmembers_dict(wiki_category)\n",
    "            \n",
    "            # return list of category members as pages only\n",
    "            catmembers_list(catmembers_dict, return_list, parent_list)\n",
    "            \n",
    "        else:\n",
    "            print(\"Does the\", wiki_category, \"exist?\", wiki_page_exist)\n",
    "     \n",
    "    return return_list"
   ]
  },
  {
   "cell_type": "markdown",
   "metadata": {},
   "source": [
    "Functions needed for **return_category_pages**"
   ]
  },
  {
   "cell_type": "code",
   "execution_count": 3,
   "metadata": {},
   "outputs": [],
   "source": [
    "def format_wiki_cat(category):\n",
    "    \n",
    "    # add 'Category:' to proceed provided string\n",
    "    format_name = str('Category:' + str(category))\n",
    "    \n",
    "    return format_name"
   ]
  },
  {
   "cell_type": "code",
   "execution_count": 4,
   "metadata": {},
   "outputs": [],
   "source": [
    "def does_wiki_exist(name):\n",
    "    \"\"\"\n",
    "    Given a name, check to see if a wikipedia page with that name exists\n",
    "    \"\"\"\n",
    "    # create instance of wikipedia api\n",
    "    import wikipediaapi\n",
    "    wiki_en = wikipediaapi.Wikipedia('en')\n",
    "    \n",
    "    # get wikipedia page\n",
    "    wiki_page = wiki_en.page(name)\n",
    "    \n",
    "    # does wikipedia page exist\n",
    "    wiki_page_exist = wiki_page.exists()\n",
    "    \n",
    "    return wiki_page_exist"
   ]
  },
  {
   "cell_type": "code",
   "execution_count": 5,
   "metadata": {},
   "outputs": [],
   "source": [
    "def return_catmembers_dict(page_name):\n",
    "    \"\"\"\n",
    "    Given page name, return category members as dict\n",
    "    \"\"\"\n",
    "    \n",
    "    import wikipediaapi\n",
    "    wiki_en = wikipediaapi.Wikipedia('en')\n",
    "    \n",
    "    wiki_page = wiki_en.page(page_name)\n",
    "    catmembers_dict = wiki_page.categorymembers\n",
    "    \n",
    "    return catmembers_dict    "
   ]
  },
  {
   "cell_type": "code",
   "execution_count": 6,
   "metadata": {},
   "outputs": [],
   "source": [
    "def catmembers_list(categorymembers, return_list, parent_list):\n",
    "    \"\"\"\n",
    "    Using a dictionary of wikipedia page category members, return a list of all bottom category members (ns == 0)\n",
    "    Provide an empty list that will be populated with bottom category members (return_list)\n",
    "    Provide an empty list that will be populated with parent categories (parent_list)\n",
    "    \"\"\"\n",
    "    \n",
    "    import wikipediaapi\n",
    "    wiki_en = wikipediaapi.Wikipedia('en')\n",
    "    \n",
    "    seen = set(return_list)  # functionality to prevent duplicates; code source: https://stackoverflow.com/questions/19834806/is-there-a-more-pythonic-way-to-prevent-adding-a-duplicate-to-a-list\n",
    "    \n",
    "    for c in categorymembers.values():\n",
    "        \n",
    "        # check for duplicates\n",
    "        if c.title not in seen:\n",
    "               \n",
    "            if c.ns == 0:\n",
    "                return_list.append(c.title)\n",
    "\n",
    "            else:\n",
    "                # sometimes category members do not begin with 'Category'; will result in read time error\n",
    "                if c.title[0:8] != 'Category':\n",
    "                    continue\n",
    "\n",
    "                # some artists have categories; not interested in digging deeper\n",
    "                if c.title == parent_list[-1]:\n",
    "                    continue\n",
    "\n",
    "                # some categories are empty; will result in read time error\n",
    "                wiki_page = wiki_en.page(c.title)\n",
    "                catmembers_dict = wiki_page.categorymembers\n",
    "                if catmembers_dict == {}:\n",
    "                    continue\n",
    "\n",
    "                # keep track of previous categories - helps with debugging\n",
    "                parent_list.append(c.title)\n",
    "                \n",
    "                # keep digging down\n",
    "                catmembers_list(c.categorymembers, return_list, parent_list)\n",
    "            \n",
    "    return return_list"
   ]
  },
  {
   "cell_type": "markdown",
   "metadata": {},
   "source": [
    "## Workflow: Return Age at Death"
   ]
  },
  {
   "cell_type": "code",
   "execution_count": 7,
   "metadata": {},
   "outputs": [],
   "source": [
    "def death_age(page_list):\n",
    "    \"\"\"\n",
    "    Given a list of wikipedia page names, return a dictionary = ['Person Name']:Age at death\n",
    "    \"\"\"\n",
    "    \n",
    "    # Requirements\n",
    "    import pandas as pd\n",
    "    \n",
    "    # Create an empty dictionary to be filled\n",
    "    age_at_death = {}\n",
    "    \n",
    "    for page in page_list:\n",
    "        \n",
    "        try:\n",
    "            person_dates = person_born_dead(page)  # returns list(birth date, death date)\n",
    "            \n",
    "            if len(person_dates) == 2:  # only if both birth and death date are present\n",
    "                birth = pd.to_datetime(person_dates[0])\n",
    "                death = pd.to_datetime(person_dates[1])\n",
    "                \n",
    "                death_age = calculate_age(birth, death)  # factoring for partial years calculate age at death\n",
    "                \n",
    "                age_at_death[page] = death_age  # add an element to the dictionary\n",
    "                    \n",
    "        except:\n",
    "            continue  # skip page if doesn't have birth and death date\n",
    "        \n",
    "    return age_at_death"
   ]
  },
  {
   "cell_type": "markdown",
   "metadata": {},
   "source": [
    "Dependencies for **death_age**"
   ]
  },
  {
   "cell_type": "code",
   "execution_count": 8,
   "metadata": {},
   "outputs": [],
   "source": [
    "def person_born_dead(person_name):\n",
    "    \"\"\"\n",
    "    Provided with a Wikipedia Page Name (str) (e.g., 'Jim Morrison')\n",
    "    Return a set(Date born, Date died)\n",
    "    \"\"\"\n",
    "    import requests\n",
    "    import re\n",
    "    \n",
    "    wiki_url = create_wiki_url(person_name)\n",
    "    text = scrape_wiki_page(wiki_url)\n",
    "    \n",
    "    # create an empty set to have dates added to; set protects against dups\n",
    "    dates = set()\n",
    "               \n",
    "    try:\n",
    "        start = text.find(\"Born\")\n",
    "        page_slice = text[start+4:start+1000] #slice after born\n",
    "                \n",
    "        pattern01 = re.compile(r'\\b\\w{3,9}\\s\\d{1,2}\\W\\s\\d{4}')  # Month Date, Year\n",
    "        pattern02 = re.compile(r'\\b\\d{1,2}\\s\\w{3,9}\\s\\d{4}')  # Date Month Year\n",
    "             \n",
    "        matches01 = pattern01.finditer(page_slice)\n",
    "        \n",
    "        for match in matches01:\n",
    "            dates.add(match.group(0))\n",
    "                      \n",
    "        if len(dates) == 0:\n",
    "            \n",
    "            matches02 = pattern02.finditer(page_slice)\n",
    "            \n",
    "            for match in matches02:\n",
    "                dates.add(match.group(0))\n",
    "                \n",
    "        dates = list(dates)\n",
    "\n",
    "        return dates\n",
    "    \n",
    "    except:\n",
    "        print(person_name, \"is not a human! function: person_born_dead\")"
   ]
  },
  {
   "cell_type": "code",
   "execution_count": 9,
   "metadata": {},
   "outputs": [],
   "source": [
    "def create_wiki_url(page_name):\n",
    "    url = \"http://en.wikipedia.org/wiki/\"\n",
    "    format_page_name = page_name.strip().replace(\" \",\"_\")\n",
    "    \n",
    "    wiki_url = url + format_page_name\n",
    "        \n",
    "    return wiki_url"
   ]
  },
  {
   "cell_type": "code",
   "execution_count": 10,
   "metadata": {},
   "outputs": [],
   "source": [
    "def scrape_wiki_page(wiki_url):\n",
    "    \"\"\"\n",
    "    Given wikipedia url, return scraped text\n",
    "    \"\"\"\n",
    "    \n",
    "    import requests\n",
    "    \n",
    "    try:\n",
    "        wiki_page = requests.get(wiki_url)\n",
    "        wiki_page_text = wiki_page.text\n",
    "        return wiki_page_text\n",
    "    \n",
    "    except:\n",
    "        return \"They don't have a wikipedia page!\" "
   ]
  },
  {
   "cell_type": "code",
   "execution_count": 11,
   "metadata": {},
   "outputs": [],
   "source": [
    "# code source: https://stackoverflow.com/questions/2217488/age-from-birthdate-in-python\n",
    "\n",
    "def calculate_age(born, died):\n",
    "    \"\"\"\n",
    "    Give date at birth and death, return age\n",
    "    \"\"\"\n",
    "    \n",
    "    from datetime import date\n",
    "    \n",
    "    age_at_death = died.year - born.year - ((died.month, died.day) < (born.month, born.day))\n",
    "    \n",
    "    return age_at_death"
   ]
  },
  {
   "cell_type": "markdown",
   "metadata": {},
   "source": [
    "## Execute: Get age at death"
   ]
  },
  {
   "cell_type": "code",
   "execution_count": null,
   "metadata": {},
   "outputs": [],
   "source": [
    "musician_age_at_death = death_age(return_cat_pages(categories))"
   ]
  },
  {
   "cell_type": "code",
   "execution_count": null,
   "metadata": {},
   "outputs": [],
   "source": [
    "f'The Wikipedia API returned {len(list(musician_age_at_death.keys()))} pages (i.e., category members).'"
   ]
  }
 ],
 "metadata": {
  "kernelspec": {
   "display_name": "Python 3",
   "language": "python",
   "name": "python3"
  },
  "language_info": {
   "codemirror_mode": {
    "name": "ipython",
    "version": 3
   },
   "file_extension": ".py",
   "mimetype": "text/x-python",
   "name": "python",
   "nbconvert_exporter": "python",
   "pygments_lexer": "ipython3",
   "version": "3.7.3"
  }
 },
 "nbformat": 4,
 "nbformat_minor": 2
}
