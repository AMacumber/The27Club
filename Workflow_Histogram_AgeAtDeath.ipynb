{
 "cells": [
  {
   "cell_type": "markdown",
   "metadata": {},
   "source": [
    "# Workflow: Histogram of musician ages at death (born 1945 - present)"
   ]
  },
  {
   "cell_type": "markdown",
   "metadata": {},
   "source": [
    "# Workflow: Return list of category member pages"
   ]
  },
  {
   "cell_type": "code",
   "execution_count": 1,
   "metadata": {},
   "outputs": [],
   "source": [
    "def return_cat_pages(categories, return_list = [], parent_list = [-99]):\n",
    "    \n",
    "    \"\"\"\n",
    "    Returns all pages associated with provided categories.\n",
    "    Categories should be provided as (a list of) strings: 'LGBT musicians by nationality'\n",
    "    \"\"\"\n",
    "    \n",
    "    # create wikipedia api instance\n",
    "    import wikipediaapi\n",
    "    wiki_en = wikipediaapi.Wikipedia('en')\n",
    "    \n",
    "    for category in categories:\n",
    "        try:\n",
    "            # add 'Category:' before category name\n",
    "            wiki_category = format_wiki_cat(category)\n",
    "        except:\n",
    "            print(\"Error! Check format_wiki_cat()\")\n",
    "        \n",
    "        try:\n",
    "            # does the page exist?\n",
    "            wiki_page_exist = does_wiki_exist(wiki_category)\n",
    "        except:\n",
    "            print(\"Error! Check does_wiki_exist()\")\n",
    "        \n",
    "        # Does wikipedia recognize the category?\n",
    "        if wiki_page_exist == True:\n",
    "                        \n",
    "            # return all category members. pages and categories\n",
    "            catmembers_dict = return_catmembers_dict(wiki_category)\n",
    "            \n",
    "            # return list of category members as pages only\n",
    "            catmembers_list(catmembers_dict, return_list, parent_list)\n",
    "            \n",
    "        else:\n",
    "            print(\"Does the\", wiki_category, \"exist?\", wiki_page_exist)\n",
    "     \n",
    "    return return_list"
   ]
  },
  {
   "cell_type": "markdown",
   "metadata": {},
   "source": [
    "## Dependencies"
   ]
  },
  {
   "cell_type": "code",
   "execution_count": 2,
   "metadata": {},
   "outputs": [],
   "source": [
    "def format_wiki_cat(category):\n",
    "    \n",
    "    # add 'Category:' to proceed provided string\n",
    "    format_name = str('Category:' + str(category))\n",
    "    \n",
    "    return format_name"
   ]
  },
  {
   "cell_type": "code",
   "execution_count": 3,
   "metadata": {},
   "outputs": [],
   "source": [
    "def does_wiki_exist(name):\n",
    "    \"\"\"\n",
    "    Given a name, check to see if a wikipedia page with that name exists\n",
    "    \"\"\"\n",
    "    # create instance of wikipedia api\n",
    "    import wikipediaapi\n",
    "    wiki_en = wikipediaapi.Wikipedia('en')\n",
    "    \n",
    "    # get wikipedia page\n",
    "    wiki_page = wiki_en.page(name)\n",
    "    \n",
    "    # does wikipedia page exist\n",
    "    wiki_page_exist = wiki_page.exists()\n",
    "    \n",
    "    return wiki_page_exist"
   ]
  },
  {
   "cell_type": "code",
   "execution_count": 4,
   "metadata": {},
   "outputs": [],
   "source": [
    "def return_catmembers_dict(page_name):\n",
    "    \"\"\"\n",
    "    Given page name, return category members as dict\n",
    "    \"\"\"\n",
    "    \n",
    "    import wikipediaapi\n",
    "    wiki_en = wikipediaapi.Wikipedia('en')\n",
    "    \n",
    "    wiki_page = wiki_en.page(page_name)\n",
    "    catmembers_dict = wiki_page.categorymembers\n",
    "    \n",
    "    return catmembers_dict    "
   ]
  },
  {
   "cell_type": "code",
   "execution_count": 5,
   "metadata": {},
   "outputs": [],
   "source": [
    "def catmembers_list(categorymembers, return_list, parent_list):\n",
    "    \"\"\"\n",
    "    Using a dictionary of wikipedia page category members, return a list of all bottom category members (ns == 0)\n",
    "    Provide an empty list that will be populated with bottom category members (return_list)\n",
    "    Provide an empty list that will be populated with parent categories (parent_list)\n",
    "    \"\"\"\n",
    "    \n",
    "    import wikipediaapi\n",
    "    wiki_en = wikipediaapi.Wikipedia('en')\n",
    "    \n",
    "    seen = set(return_list)  # functionality to prevent duplicates; code source: https://stackoverflow.com/questions/19834806/is-there-a-more-pythonic-way-to-prevent-adding-a-duplicate-to-a-list\n",
    "    \n",
    "    for c in categorymembers.values():\n",
    "        \n",
    "        # check for duplicates\n",
    "        if c.title not in seen:\n",
    "               \n",
    "            if c.ns == 0:\n",
    "                return_list.append(c.title)\n",
    "\n",
    "            else:\n",
    "                # sometimes category members do not begin with 'Category'; will result in read time error\n",
    "                if c.title[0:8] != 'Category':\n",
    "                    continue\n",
    "\n",
    "                # some artists have categories; not interested in digging deeper\n",
    "                if c.title == parent_list[-1]:\n",
    "                    continue\n",
    "\n",
    "                # some categories are empty; will result in read time error\n",
    "                wiki_page = wiki_en.page(c.title)\n",
    "                catmembers_dict = wiki_page.categorymembers\n",
    "                if catmembers_dict == {}:\n",
    "                    continue\n",
    "\n",
    "                # keep track of previous categories - helps with debugging\n",
    "                parent_list.append(c.title)\n",
    "                \n",
    "                # keep digging down\n",
    "                catmembers_list(c.categorymembers, return_list, parent_list)\n",
    "            \n",
    "    return return_list"
   ]
  },
  {
   "cell_type": "markdown",
   "metadata": {},
   "source": [
    "# Workflow: Return Age at Death"
   ]
  },
  {
   "cell_type": "code",
   "execution_count": 6,
   "metadata": {},
   "outputs": [],
   "source": [
    "def death_age(page_list):\n",
    "    \"\"\"\n",
    "    Given a list of wikipedia page names, return a dictionary = ['Person Name']:Age at death\n",
    "    \"\"\"\n",
    "    \n",
    "    # Requirements\n",
    "    import pandas as pd\n",
    "    \n",
    "    # Create an empty dictionary to be filled\n",
    "    age_at_death = {}\n",
    "    \n",
    "    for page in page_list:\n",
    "        \n",
    "        try:\n",
    "            person_dates = person_born_dead(page)\n",
    "            \n",
    "            if len(person_dates.values()) == 2:  # only if both birth and death date are present\n",
    "                birth = pd.to_datetime(person_dates['Born'])\n",
    "                death = pd.to_datetime(person_dates['Dead'])\n",
    "                \n",
    "                death_age = calculate_age(birth, death)  # factoring for partial years calculate age at death\n",
    "                \n",
    "                age_at_death[page] = death_age  # add an element to the dictionary\n",
    "                    \n",
    "        except:\n",
    "            continue  # skip page if doesn't have birth and death date\n",
    "        \n",
    "    return age_at_death"
   ]
  },
  {
   "cell_type": "markdown",
   "metadata": {},
   "source": [
    "## Dependencies"
   ]
  },
  {
   "cell_type": "code",
   "execution_count": 70,
   "metadata": {},
   "outputs": [],
   "source": [
    "# v002\n",
    "\n",
    "def person_born_dead(person_name):\n",
    "    \"\"\"\n",
    "    Provided with a Wikipedia Page Name (str) (e.g., 'Jim Morrison')\n",
    "    Return a set(Date born, Date died)\n",
    "    \"\"\"\n",
    "    import requests\n",
    "    import re\n",
    "    \n",
    "    try:\n",
    "        wiki_url = create_wiki_url(person_name)\n",
    "    except:\n",
    "        print(person_name, \"Error. Check create_wiki_url()\")\n",
    "        \n",
    "    try:\n",
    "        text = scrape_wiki_page(wiki_url)\n",
    "    except:\n",
    "        print(person_name, \"Error. Check scrape_wiki_page()\")\n",
    "    \n",
    "    try:\n",
    "        page_slice = return_page_slice(text)\n",
    "    except:\n",
    "        print(person_name, \"Check out: return_page_slice()\")\n",
    "    \n",
    "    try:\n",
    "        # create an empty set to have dates added to; set protects against dups\n",
    "        dates = []\n",
    "        dates_dict = {}\n",
    "        \n",
    "        pattern01 = re.compile(r'\\b\\w{3,9}\\s\\d{1,2}\\W\\s\\d{4}')  # Month Date, Year\n",
    "        pattern02 = re.compile(r'\\b\\d{1,2}\\s\\w{3,9}\\s\\d{4}')  # Date Month Year\n",
    "        \n",
    "        \n",
    "        matches01 = pattern01.finditer(page_slice)\n",
    "        matches02 = pattern02.finditer(page_slice)\n",
    "        \n",
    "        # pattern 01 was matched, append to dates\n",
    "        for match in matches01:\n",
    "            \n",
    "            # protect against duplicates\n",
    "            if match.group(0) not in dates:\n",
    "                dates.append(match.group(0))\n",
    "        \n",
    "        # if pattern 01 was not matched, try pattern 02\n",
    "        if len(dates) == 0:\n",
    "            \n",
    "            for match in matches02:\n",
    "                # protect against duplicates\n",
    "                if match.group(0) not in dates:\n",
    "                    dates.append(match.group(0))\n",
    "                \n",
    "        # create a tuple, avoids sorting of dates\n",
    "        dates_tuple = tuple(dates)\n",
    "        \n",
    "        # store in a dictionary\n",
    "        titles = ('Born', 'Dead')\n",
    "        \n",
    "        for title, match in zip(titles, dates_tuple):\n",
    "            dates_dict[title] = match\n",
    "\n",
    "        return dates_dict\n",
    "    \n",
    "    except:\n",
    "        print(person_name, \"is not a human! function: person_born_dead\")"
   ]
  },
  {
   "cell_type": "code",
   "execution_count": 8,
   "metadata": {},
   "outputs": [],
   "source": [
    "def create_wiki_url(page_name):\n",
    "    url = \"http://en.wikipedia.org/wiki/\"\n",
    "    format_page_name = page_name.strip().replace(\" \",\"_\")\n",
    "    \n",
    "    wiki_url = url + format_page_name\n",
    "        \n",
    "    return wiki_url"
   ]
  },
  {
   "cell_type": "code",
   "execution_count": 9,
   "metadata": {},
   "outputs": [],
   "source": [
    "def scrape_wiki_page(wiki_url):\n",
    "    \"\"\"\n",
    "    Given wikipedia url, return scraped text\n",
    "    \"\"\"\n",
    "    \n",
    "    import requests\n",
    "\n",
    "    wiki_page = requests.get(wiki_url)\n",
    "    wiki_page_text = wiki_page.text\n",
    "    \n",
    "    return wiki_page_text"
   ]
  },
  {
   "cell_type": "code",
   "execution_count": 10,
   "metadata": {},
   "outputs": [],
   "source": [
    "def return_page_slice(text, start_point = \"Born\", end_point = 1000):\n",
    "    \"\"\"\n",
    "    Given scraped html page and a start point\n",
    "    Return a page slice\n",
    "    \"\"\"\n",
    "\n",
    "    start = text.find(start_point) + len(start_point)\n",
    "    end = start + end_point\n",
    "    page_slice = text[start:end] #slice after born\n",
    "        \n",
    "    return page_slice"
   ]
  },
  {
   "cell_type": "code",
   "execution_count": 11,
   "metadata": {},
   "outputs": [],
   "source": [
    "# code source: https://stackoverflow.com/questions/2217488/age-from-birthdate-in-python\n",
    "\n",
    "def calculate_age(born, died):\n",
    "    \"\"\"\n",
    "    Give date at birth and death, return age\n",
    "    \"\"\"\n",
    "    \n",
    "    from datetime import date\n",
    "    \n",
    "    age_at_death = died.year - born.year - ((died.month, died.day) < (born.month, born.day))\n",
    "    \n",
    "    return age_at_death"
   ]
  },
  {
   "cell_type": "markdown",
   "metadata": {},
   "source": [
    "## Execute"
   ]
  },
  {
   "cell_type": "code",
   "execution_count": 15,
   "metadata": {},
   "outputs": [],
   "source": [
    "import time"
   ]
  },
  {
   "cell_type": "code",
   "execution_count": 12,
   "metadata": {},
   "outputs": [],
   "source": [
    "categories = ['Male musicians by nationality', 'Female musicians by nationality', 'LGBT musicians by nationality']"
   ]
  },
  {
   "cell_type": "code",
   "execution_count": 16,
   "metadata": {},
   "outputs": [],
   "source": [
    "start = time.time()\n",
    "\n",
    "cat_pages = return_cat_pages(categories)\n",
    "\n",
    "end = time.time()"
   ]
  },
  {
   "cell_type": "code",
   "execution_count": 22,
   "metadata": {},
   "outputs": [
    {
     "data": {
      "text/plain": [
       "49.064732623100284"
      ]
     },
     "execution_count": 22,
     "metadata": {},
     "output_type": "execute_result"
    }
   ],
   "source": [
    "time_taken = (end - start) / 60\n",
    "time_taken"
   ]
  },
  {
   "cell_type": "code",
   "execution_count": 71,
   "metadata": {},
   "outputs": [
    {
     "data": {
      "text/plain": [
       "'The Wikipedia API returned 76346 pages under those categories.'"
      ]
     },
     "execution_count": 71,
     "metadata": {},
     "output_type": "execute_result"
    }
   ],
   "source": [
    "f'The Wikipedia API returned {len(cat_pages)} pages under those categories.'"
   ]
  },
  {
   "cell_type": "code",
   "execution_count": 72,
   "metadata": {},
   "outputs": [],
   "source": [
    "start = time.time()\n",
    "\n",
    "musician_age_at_death = death_age(cat_pages)\n",
    "\n",
    "end = time.time()"
   ]
  },
  {
   "cell_type": "code",
   "execution_count": 73,
   "metadata": {},
   "outputs": [
    {
     "data": {
      "text/plain": [
       "10.90517928050624"
      ]
     },
     "execution_count": 73,
     "metadata": {},
     "output_type": "execute_result"
    }
   ],
   "source": [
    "time_taken = ((end - start) / 60)/60\n",
    "time_taken"
   ]
  },
  {
   "cell_type": "code",
   "execution_count": 89,
   "metadata": {},
   "outputs": [
    {
     "data": {
      "text/plain": [
       "'The Wikipedia API returned 9727 pages (age of death).'"
      ]
     },
     "execution_count": 89,
     "metadata": {},
     "output_type": "execute_result"
    }
   ],
   "source": [
    "f'The Wikipedia API returned {len(list(musician_age_at_death.keys()))} pages (age of death).'"
   ]
  },
  {
   "cell_type": "markdown",
   "metadata": {},
   "source": [
    "## **Save**"
   ]
  },
  {
   "cell_type": "code",
   "execution_count": 96,
   "metadata": {},
   "outputs": [],
   "source": [
    "import json"
   ]
  },
  {
   "cell_type": "code",
   "execution_count": 97,
   "metadata": {},
   "outputs": [],
   "source": [
    "with open('musician_age_at_death.json', 'w') as fp:\n",
    "    json.dump(musician_age_at_death, fp)"
   ]
  },
  {
   "cell_type": "markdown",
   "metadata": {},
   "source": [
    "## **Load**"
   ]
  },
  {
   "cell_type": "code",
   "execution_count": 99,
   "metadata": {},
   "outputs": [],
   "source": [
    "with open('musician_age_at_death.json', 'r') as fp:\n",
    "    data = json.load(fp)"
   ]
  },
  {
   "cell_type": "code",
   "execution_count": 100,
   "metadata": {},
   "outputs": [
    {
     "data": {
      "text/plain": [
       "'The Wikipedia API returned 9727 pages (age of death).'"
      ]
     },
     "execution_count": 100,
     "metadata": {},
     "output_type": "execute_result"
    }
   ],
   "source": [
    "f'The Wikipedia API returned {len(list(data.keys()))} pages (age of death).'"
   ]
  },
  {
   "cell_type": "markdown",
   "metadata": {},
   "source": [
    "## Test **Random Samples**"
   ]
  },
  {
   "cell_type": "code",
   "execution_count": 75,
   "metadata": {},
   "outputs": [],
   "source": [
    "length = len(list(musician_age_at_death.keys())) # number of keys in dict\n",
    "\n",
    "import random"
   ]
  },
  {
   "cell_type": "code",
   "execution_count": 81,
   "metadata": {},
   "outputs": [
    {
     "data": {
      "text/plain": [
       "\"The dictionary has 9727 elements of the following form: ('Pavel Bobek', 76)\""
      ]
     },
     "execution_count": 81,
     "metadata": {},
     "output_type": "execute_result"
    }
   ],
   "source": [
    "onesample = random.choice(list(musician_age_at_death.items()))\n",
    "\n",
    "f'The dictionary has {length} elements of the following form: {onesample}'"
   ]
  },
  {
   "cell_type": "markdown",
   "metadata": {},
   "source": [
    "## Test **Zero Values**"
   ]
  },
  {
   "cell_type": "code",
   "execution_count": 82,
   "metadata": {},
   "outputs": [
    {
     "data": {
      "text/plain": [
       "'The Wikipedia API returned 65 pages (age of death).'"
      ]
     },
     "execution_count": 82,
     "metadata": {},
     "output_type": "execute_result"
    }
   ],
   "source": [
    "musicians_zero_age = {}\n",
    "\n",
    "for musician in musician_age_at_death:\n",
    "    if musician_age_at_death[musician] == 0:\n",
    "        musicians_zero_age[musician] = musician_age_at_death[musician]\n",
    "\n",
    "f'The Wikipedia API returned {len(list(musicians_zero_age.keys()))} pages (age of death).'"
   ]
  },
  {
   "cell_type": "code",
   "execution_count": null,
   "metadata": {},
   "outputs": [],
   "source": []
  },
  {
   "cell_type": "markdown",
   "metadata": {},
   "source": [
    "## Filter **Greater Than 15**"
   ]
  },
  {
   "cell_type": "code",
   "execution_count": 83,
   "metadata": {},
   "outputs": [
    {
     "data": {
      "text/plain": [
       "'The Wikipedia API returned 9519 pages (age of death).'"
      ]
     },
     "execution_count": 83,
     "metadata": {},
     "output_type": "execute_result"
    }
   ],
   "source": [
    "musicians_15_plus = {}\n",
    "\n",
    "for musician in musician_age_at_death:\n",
    "    if musician_age_at_death[musician] >= 15:\n",
    "        musicians_15_plus[musician] = musician_age_at_death[musician]\n",
    "\n",
    "f'The Wikipedia API returned {len(list(musicians_15_plus.keys()))} pages (age of death).'"
   ]
  },
  {
   "cell_type": "markdown",
   "metadata": {},
   "source": [
    "## Histogram"
   ]
  },
  {
   "cell_type": "code",
   "execution_count": 84,
   "metadata": {},
   "outputs": [],
   "source": [
    "import matplotlib.pyplot as plt\n",
    "import numpy as np\n",
    "import seaborn as sns"
   ]
  },
  {
   "cell_type": "code",
   "execution_count": 85,
   "metadata": {},
   "outputs": [],
   "source": [
    "dataset = musicians_15_plus"
   ]
  },
  {
   "cell_type": "code",
   "execution_count": 86,
   "metadata": {},
   "outputs": [],
   "source": [
    "length = len(list(dataset.keys())) # number of keys in dict\n",
    "n_bins = int(np.sqrt(length))"
   ]
  },
  {
   "cell_type": "code",
   "execution_count": 87,
   "metadata": {},
   "outputs": [
    {
     "data": {
      "image/png": "[encoded data removed]",
      "text/plain": [
       "<Figure size 432x288 with 1 Axes>"
      ]
     },
     "metadata": {},
     "output_type": "display_data"
    }
   ],
   "source": [
    "sns.set()\n",
    "_ = plt.hist(dataset.values(), bins = n_bins)\n",
    "\n",
    "_ = plt.xlabel('Age At Death')\n",
    "_ = plt.ylabel('Count')\n",
    "\n",
    "plt.show()"
   ]
  },
  {
   "cell_type": "markdown",
   "metadata": {},
   "source": [
    "# Summary\n",
    "\n",
    "Is this equal to a global person distribution?\n",
    "\n",
    "What's with the long bins?\n",
    "\n",
    "Format the y-variable to percents"
   ]
  }
 ],
 "metadata": {
  "kernelspec": {
   "display_name": "Python 3",
   "language": "python",
   "name": "python3"
  },
  "language_info": {
   "codemirror_mode": {
    "name": "ipython",
    "version": 3
   },
   "file_extension": ".py",
   "mimetype": "text/x-python",
   "name": "python",
   "nbconvert_exporter": "python",
   "pygments_lexer": "ipython3",
   "version": "3.7.3"
  }
 },
 "nbformat": 4,
 "nbformat_minor": 2
}
