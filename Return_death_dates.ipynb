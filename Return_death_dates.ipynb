{
 "cells": [
  {
   "cell_type": "markdown",
   "metadata": {},
   "source": [
    "## Scrape musician death dates from Wikipedia\n",
    "\n",
    "If provided a list of musician names, return their death dates."
   ]
  },
  {
   "cell_type": "code",
   "execution_count": 67,
   "metadata": {},
   "outputs": [],
   "source": [
    "musician_list = [' Jim Morrison', 'Janis Joplin ', 'Jimi Hendrix', 'Rosanne Cash']"
   ]
  },
  {
   "cell_type": "markdown",
   "metadata": {},
   "source": [
    "Define a functions"
   ]
  },
  {
   "cell_type": "code",
   "execution_count": 68,
   "metadata": {},
   "outputs": [],
   "source": [
    "def name_add_underscore(person_name):\n",
    "    \"\"\"\n",
    "    the wikipedia url requires: FirstName_LastName\n",
    "    formats a name so this is the case\n",
    "    \"\"\"\n",
    "    \n",
    "    person__name = person_name.strip().replace(\" \",\"_\")\n",
    "    \n",
    "    return person__name"
   ]
  },
  {
   "cell_type": "code",
   "execution_count": 69,
   "metadata": {},
   "outputs": [],
   "source": [
    "def wikipedia_name_scrape(url_name):\n",
    "    \"\"\"\n",
    "    ensures that the wikipedia exists\n",
    "    if the wikipedia page exists return the scrapped text\n",
    "    \"\"\"\n",
    "    \n",
    "    try:\n",
    "        name_wikipage = requests.get(url_name)\n",
    "        name_page_text = name_wikipage.text\n",
    "        return name_page_text\n",
    "    \n",
    "    except:\n",
    "        return \"They don't have a wikipedia page!\"   \n",
    "    "
   ]
  },
  {
   "cell_type": "code",
   "execution_count": 70,
   "metadata": {},
   "outputs": [],
   "source": [
    "def wikipedia_death_date(person_name):\n",
    "    \"\"\"\n",
    "    if provided with a name extract the day they died from wikipedia\n",
    "    \"\"\"\n",
    "    import requests\n",
    "    import re\n",
    "    \n",
    "    url = \"http://en.wikipedia.org/wiki/\"\n",
    "    url_name = url + name_add_underscore(person_name)\n",
    "    text = wikipedia_name_scrape(url_name)\n",
    "           \n",
    "    try:\n",
    "        start = text.find(\"Died</th>\")\n",
    "        page_slice = text[start+13:start+50]\n",
    "        death_date = re.match(r\"\\A\\D*\\s\\d*\\W\\s\\d\\d\\d\\d\", page_slice)\n",
    "        return death_date.group(0)\n",
    "    \n",
    "    except:\n",
    "        return \"Still alive and kicking!\""
   ]
  },
  {
   "cell_type": "code",
   "execution_count": 71,
   "metadata": {},
   "outputs": [],
   "source": [
    "def name_remove_underscore(person__name):\n",
    "    \"\"\"\n",
    "    removes an underscore from: FirstName_LastName\n",
    "    \"\"\"\n",
    "    \n",
    "    person_name = person__name.replace(\"_\",\" \")\n",
    "    \n",
    "    return person_name"
   ]
  },
  {
   "cell_type": "code",
   "execution_count": 72,
   "metadata": {},
   "outputs": [],
   "source": [
    "death_dates = {}\n",
    "\n",
    "for musician in musician_list:\n",
    "    death_dates[name_remove_underscore(name_add_underscore(musician))] = wikipedia_death_date(musician)"
   ]
  },
  {
   "cell_type": "code",
   "execution_count": 73,
   "metadata": {},
   "outputs": [
    {
     "data": {
      "text/plain": [
       "{'Jim Morrison': 'July 3, 1971',\n",
       " 'Janis Joplin': 'October 4, 1970',\n",
       " 'Jimi Hendrix': 'September 18, 1970',\n",
       " 'Rosanne Cash': 'Still alive and kicking!'}"
      ]
     },
     "execution_count": 73,
     "metadata": {},
     "output_type": "execute_result"
    }
   ],
   "source": [
    "death_dates"
   ]
  }
 ],
 "metadata": {
  "kernelspec": {
   "display_name": "Python 3",
   "language": "python",
   "name": "python3"
  },
  "language_info": {
   "codemirror_mode": {
    "name": "ipython",
    "version": 3
   },
   "file_extension": ".py",
   "mimetype": "text/x-python",
   "name": "python",
   "nbconvert_exporter": "python",
   "pygments_lexer": "ipython3",
   "version": "3.7.3"
  }
 },
 "nbformat": 4,
 "nbformat_minor": 2
}
