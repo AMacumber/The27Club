{
 "cells": [
  {
   "cell_type": "code",
   "execution_count": null,
   "metadata": {},
   "outputs": [],
   "source": [
    "def wikipedia_death_date(person_name):\n",
    "    \"\"\"\n",
    "    if provided with a name extract the day they died from wikipedia\n",
    "    \"\"\"\n",
    "    import requests\n",
    "    import re\n",
    "    \n",
    "    url = \"http://en.wikipedia.org/wiki/\"\n",
    "    url_name = url + name_add_underscore(person_name)\n",
    "    text = wikipedia_name_scrape(url_name)\n",
    "           \n",
    "    try:\n",
    "        start = text.find(\"Died</th>\")\n",
    "        page_slice = text[start+13:start+50]\n",
    "        death_date = re.match(r\"\\A\\D*\\s\\d*\\W\\s\\d\\d\\d\\d\", page_slice)\n",
    "        return death_date.group(0)\n",
    "    \n",
    "    except:\n",
    "        return \"Still alive and kicking!\""
   ]
  }
 ],
 "metadata": {
  "kernelspec": {
   "display_name": "Python 3",
   "language": "python",
   "name": "python3"
  },
  "language_info": {
   "codemirror_mode": {
    "name": "ipython",
    "version": 3
   },
   "file_extension": ".py",
   "mimetype": "text/x-python",
   "name": "python",
   "nbconvert_exporter": "python",
   "pygments_lexer": "ipython3",
   "version": "3.7.3"
  }
 },
 "nbformat": 4,
 "nbformat_minor": 2
}
