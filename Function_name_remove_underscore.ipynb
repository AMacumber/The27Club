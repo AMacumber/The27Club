{
 "cells": [
  {
   "cell_type": "code",
   "execution_count": null,
   "metadata": {},
   "outputs": [],
   "source": [
    "def name_remove_underscore(person__name):\n",
    "    \"\"\"\n",
    "    removes an underscore from: FirstName_LastName\n",
    "    \"\"\"\n",
    "    \n",
    "    person_name = person__name.replace(\"_\",\" \")\n",
    "    \n",
    "    return person_name"
   ]
  }
 ],
 "metadata": {
  "kernelspec": {
   "display_name": "Python 3",
   "language": "python",
   "name": "python3"
  },
  "language_info": {
   "codemirror_mode": {
    "name": "ipython",
    "version": 3
   },
   "file_extension": ".py",
   "mimetype": "text/x-python",
   "name": "python",
   "nbconvert_exporter": "python",
   "pygments_lexer": "ipython3",
   "version": "3.7.3"
  }
 },
 "nbformat": 4,
 "nbformat_minor": 2
}
