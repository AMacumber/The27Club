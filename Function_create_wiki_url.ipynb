{
 "cells": [
  {
   "cell_type": "code",
   "execution_count": 1,
   "metadata": {},
   "outputs": [],
   "source": [
    "def create_wiki_url(page_name):\n",
    "    url = \"http://en.wikipedia.org/wiki/\"\n",
    "    format_page_name = page_name.strip().replace(\" \",\"_\")\n",
    "    \n",
    "    wiki_url = url + format_page_name\n",
    "        \n",
    "    return wiki_url"
   ]
  }
 ],
 "metadata": {
  "kernelspec": {
   "display_name": "Python 3",
   "language": "python",
   "name": "python3"
  },
  "language_info": {
   "codemirror_mode": {
    "name": "ipython",
    "version": 3
   },
   "file_extension": ".py",
   "mimetype": "text/x-python",
   "name": "python",
   "nbconvert_exporter": "python",
   "pygments_lexer": "ipython3",
   "version": "3.7.3"
  }
 },
 "nbformat": 4,
 "nbformat_minor": 2
}
