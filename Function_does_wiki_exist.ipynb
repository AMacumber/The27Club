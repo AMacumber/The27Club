{
 "cells": [
  {
   "cell_type": "code",
   "execution_count": null,
   "metadata": {},
   "outputs": [],
   "source": [
    "def does_wiki_exist(name):\n",
    "    \"\"\"\n",
    "    Given a name, check to see if a wikipedia page with that name exists\n",
    "    \"\"\"\n",
    "    # create instance of wikipedia api\n",
    "    import wikipediaapi\n",
    "    wiki_en = wikipediaapi.Wikipedia('en')\n",
    "    \n",
    "    # get wikipedia page\n",
    "    wiki_page = wiki_en.page(name)\n",
    "    \n",
    "    # does wikipedia page exist\n",
    "    wiki_page_exist = wiki_page.exists()\n",
    "    \n",
    "    return wiki_page_exist"
   ]
  }
 ],
 "metadata": {
  "kernelspec": {
   "display_name": "Python 3",
   "language": "python",
   "name": "python3"
  },
  "language_info": {
   "codemirror_mode": {
    "name": "ipython",
    "version": 3
   },
   "file_extension": ".py",
   "mimetype": "text/x-python",
   "name": "python",
   "nbconvert_exporter": "python",
   "pygments_lexer": "ipython3",
   "version": "3.7.3"
  }
 },
 "nbformat": 4,
 "nbformat_minor": 2
}
