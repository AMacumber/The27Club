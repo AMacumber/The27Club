{
 "cells": [
  {
   "cell_type": "markdown",
   "metadata": {},
   "source": [
    "# Test **Dictionary Query Conditional on Values**"
   ]
  },
  {
   "cell_type": "markdown",
   "metadata": {},
   "source": [
    "## **Load**"
   ]
  },
  {
   "cell_type": "code",
   "execution_count": 1,
   "metadata": {},
   "outputs": [],
   "source": [
    "import json"
   ]
  },
  {
   "cell_type": "code",
   "execution_count": 2,
   "metadata": {},
   "outputs": [],
   "source": [
    "with open('musician_age_at_death.json', 'r') as fp:\n",
    "    data = json.load(fp)"
   ]
  },
  {
   "cell_type": "code",
   "execution_count": 3,
   "metadata": {},
   "outputs": [
    {
     "data": {
      "text/plain": [
       "'The Wikipedia API returned 9727 pages (age of death).'"
      ]
     },
     "execution_count": 3,
     "metadata": {},
     "output_type": "execute_result"
    }
   ],
   "source": [
    "f'The Wikipedia API returned {len(list(data.keys()))} pages (age of death).'"
   ]
  },
  {
   "cell_type": "markdown",
   "metadata": {},
   "source": [
    "## Test **Zero Values**"
   ]
  },
  {
   "cell_type": "code",
   "execution_count": 6,
   "metadata": {},
   "outputs": [
    {
     "data": {
      "text/plain": [
       "'The Wikipedia API returned 65 pages (age of death).'"
      ]
     },
     "execution_count": 6,
     "metadata": {},
     "output_type": "execute_result"
    }
   ],
   "source": [
    "musicians_zero_age = {}\n",
    "\n",
    "for musician in data:\n",
    "    if data[musician] == 0:\n",
    "        musicians_zero_age[musician] = data[musician]\n",
    "\n",
    "f'The Wikipedia API returned {len(list(musicians_zero_age.keys()))} pages (age of death).'"
   ]
  },
  {
   "cell_type": "code",
   "execution_count": 7,
   "metadata": {},
   "outputs": [
    {
     "data": {
      "text/plain": [
       "{'Jack & Jack': 0,\n",
       " 'Judge Da Boss': 0,\n",
       " 'Chilla Jones': 0,\n",
       " 'K.A.A.N.': 0,\n",
       " 'Trini Triggs': 0,\n",
       " 'Nebraska (album)': 0,\n",
       " \"Hammersmith Odeon London '75\": 0,\n",
       " 'The River Tour (2016)': 0,\n",
       " 'Jesse Powell': 0,\n",
       " 'Michael Quercio': 0,\n",
       " 'Phil Ritchie': 0,\n",
       " 'Walter Roland': 0,\n",
       " 'Abdul Latif (musician)': 0,\n",
       " 'Agnaldo Rayol': 0,\n",
       " 'Paul Hecht': 0,\n",
       " 'Guillermo Ayoví Erazo': 0,\n",
       " 'Kirit Khan': 0,\n",
       " 'Harish Raghavendra': 0,\n",
       " 'Seán Keane (singer)': 0,\n",
       " 'Masataka Itsumi': 0,\n",
       " 'Nasser Razazi': 0,\n",
       " 'Park Hyo-shin': 0,\n",
       " 'Ben Patterson': 0,\n",
       " 'Glenn Letsch': 0,\n",
       " 'David Stock': 0,\n",
       " 'Sam McCandless': 0,\n",
       " 'Mark Trombino': 0,\n",
       " 'Dick Garcia': 0,\n",
       " 'Ollie Shepard (blues pianist)': 0,\n",
       " 'Craig Handy': 0,\n",
       " 'Tony Malaby': 0,\n",
       " 'Elliot Wolff': 0,\n",
       " 'Peter Wolf (producer)': 0,\n",
       " 'Luke Flintoft': 0,\n",
       " 'Carlos Miranda': 0,\n",
       " 'Johann Sebastian Bach': 0,\n",
       " 'Giuseppe Di Bianco': 0,\n",
       " 'Erland Dahlen': 0,\n",
       " 'The Anointed Pace Sisters': 0,\n",
       " 'Nostalgic for the Present Tour': 0,\n",
       " 'Sophie Bevan': 0,\n",
       " 'Grażyna Brodzińska': 0,\n",
       " 'Hope Emerson': 0,\n",
       " 'Yasmeen Sulieman': 0,\n",
       " 'Natalia Doco': 0,\n",
       " 'Dhee (singer)': 0,\n",
       " 'Morgane (singer)': 0,\n",
       " 'Letícia Persiles': 0,\n",
       " 'Rebecca Pidgeon': 0,\n",
       " 'Blythe Wilson': 0,\n",
       " 'Zsa Zsa (singer)': 0,\n",
       " 'Monica Verschoor': 0,\n",
       " 'Renée van Wegberg': 0,\n",
       " 'Dessa (Filipina singer)': 0,\n",
       " 'Sanni Kurkisuo': 0,\n",
       " 'Serena Rigacci': 0,\n",
       " 'Jurga Šeduikytė': 0,\n",
       " 'Adalí Montero': 0,\n",
       " 'Nina Donelli': 0,\n",
       " 'Adiam Dymott': 0,\n",
       " 'Grethe Rottböll': 0,\n",
       " 'Nesrin Sipahi': 0,\n",
       " 'Grace Nikae': 0,\n",
       " 'Creep (band)': 0,\n",
       " 'Anne Queffélec': 0}"
      ]
     },
     "execution_count": 7,
     "metadata": {},
     "output_type": "execute_result"
    }
   ],
   "source": [
    "musicians_zero_age"
   ]
  },
  {
   "cell_type": "markdown",
   "metadata": {},
   "source": [
    "At looked at two wikipedia pages. They were both for living musicians."
   ]
  }
 ],
 "metadata": {
  "kernelspec": {
   "display_name": "Python 3",
   "language": "python",
   "name": "python3"
  },
  "language_info": {
   "codemirror_mode": {
    "name": "ipython",
    "version": 3
   },
   "file_extension": ".py",
   "mimetype": "text/x-python",
   "name": "python",
   "nbconvert_exporter": "python",
   "pygments_lexer": "ipython3",
   "version": "3.7.3"
  }
 },
 "nbformat": 4,
 "nbformat_minor": 2
}
