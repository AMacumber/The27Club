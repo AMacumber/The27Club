{
 "cells": [
  {
   "cell_type": "code",
   "execution_count": null,
   "metadata": {},
   "outputs": [],
   "source": [
    "def catmembers_list(categorymembers, return_list, parent_list):\n",
    "    \"\"\"\n",
    "    Using a dictionary of wikipedia page category members, return a list of all bottom category members (ns == 0)\n",
    "    Provide an empty list that will be populated with bottom category members (return_list)\n",
    "    Provide an empty list that will be populated with parent categories (parent_list)\n",
    "    \"\"\"\n",
    "    \n",
    "    import wikipediaapi\n",
    "    wiki_en = wikipediaapi.Wikipedia('en')\n",
    "    \n",
    "    seen = set(return_list)  # functionality to prevent duplicates; code source: https://stackoverflow.com/questions/19834806/is-there-a-more-pythonic-way-to-prevent-adding-a-duplicate-to-a-list\n",
    "    \n",
    "    for c in categorymembers.values():\n",
    "        \n",
    "        # check for duplicates\n",
    "        if c.title not in seen:\n",
    "               \n",
    "            if c.ns == 0:\n",
    "                return_list.append(c.title)\n",
    "\n",
    "            else:\n",
    "                # sometimes category members do not begin with 'Category'; will result in read time error\n",
    "                if c.title[0:8] != 'Category':\n",
    "                    continue\n",
    "\n",
    "                # some artists have categories; not interested in digging deeper\n",
    "                if c.title == parent_list[-1]:\n",
    "                    continue\n",
    "\n",
    "                # some categories are empty; will result in read time error\n",
    "                wiki_page = wiki_en.page(c.title)\n",
    "                catmembers_dict = wiki_page.categorymembers\n",
    "                if catmembers_dict == {}:\n",
    "                    continue\n",
    "\n",
    "                # keep track of previous categories - helps with debugging\n",
    "                parent_list.append(c.title)\n",
    "                \n",
    "                # keep digging down\n",
    "                catmembers_list(c.categorymembers, return_list, parent_list)\n",
    "            \n",
    "    return return_list"
   ]
  }
 ],
 "metadata": {
  "kernelspec": {
   "display_name": "Python 3",
   "language": "python",
   "name": "python3"
  },
  "language_info": {
   "codemirror_mode": {
    "name": "ipython",
    "version": 3
   },
   "file_extension": ".py",
   "mimetype": "text/x-python",
   "name": "python",
   "nbconvert_exporter": "python",
   "pygments_lexer": "ipython3",
   "version": "3.7.3"
  }
 },
 "nbformat": 4,
 "nbformat_minor": 2
}
