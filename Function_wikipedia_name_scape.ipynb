{
 "cells": [
  {
   "cell_type": "code",
   "execution_count": null,
   "metadata": {},
   "outputs": [],
   "source": [
    "def wikipedia_name_scrape(url_name):\n",
    "    \"\"\"\n",
    "    ensures that the wikipedia exists\n",
    "    if the wikipedia page exists return the scrapped text\n",
    "    \"\"\"\n",
    "    \n",
    "    try:\n",
    "        name_wikipage = requests.get(url_name)\n",
    "        name_page_text = name_wikipage.text\n",
    "        return name_page_text\n",
    "    \n",
    "    except:\n",
    "        return \"They don't have a wikipedia page!\"   "
   ]
  }
 ],
 "metadata": {
  "kernelspec": {
   "display_name": "Python 3",
   "language": "python",
   "name": "python3"
  },
  "language_info": {
   "codemirror_mode": {
    "name": "ipython",
    "version": 3
   },
   "file_extension": ".py",
   "mimetype": "text/x-python",
   "name": "python",
   "nbconvert_exporter": "python",
   "pygments_lexer": "ipython3",
   "version": "3.7.3"
  }
 },
 "nbformat": 4,
 "nbformat_minor": 2
}
