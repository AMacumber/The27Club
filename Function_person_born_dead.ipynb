{
 "cells": [
  {
   "cell_type": "code",
   "execution_count": null,
   "metadata": {},
   "outputs": [],
   "source": [
    "def person_born_dead(person_name):\n",
    "    \"\"\"\n",
    "    Provided with a Wikipedia Page Name (str) (e.g., 'Jim Morrison')\n",
    "    Return a set(Date born, Date died)\n",
    "    \"\"\"\n",
    "    import requests\n",
    "    import re\n",
    "    \n",
    "    wiki_url = create_wiki_url(person_name)\n",
    "    text = scrape_wiki_page(wiki_url)\n",
    "    \n",
    "    # create an empty set to have dates added to; set protects against dups\n",
    "    dates = set()\n",
    "               \n",
    "    try:\n",
    "        start = text.find(\"Born\")\n",
    "        page_slice = text[start+4:start+1000] #slice after born\n",
    "                \n",
    "        pattern01 = re.compile(r'\\b\\w{3,9}\\s\\d{1,2}\\W\\s\\d{4}')  # Month Date, Year\n",
    "        pattern02 = re.compile(r'\\b\\d{1,2}\\s\\w{3,9}\\s\\d{4}')  # Date Month Year\n",
    "             \n",
    "        matches01 = pattern01.finditer(page_slice)\n",
    "        \n",
    "        for match in matches01:\n",
    "            dates.add(match.group(0))\n",
    "                      \n",
    "        if len(dates) == 0:\n",
    "            \n",
    "            matches02 = pattern02.finditer(page_slice)\n",
    "            \n",
    "            for match in matches02:\n",
    "                dates.add(match.group(0))\n",
    "                \n",
    "        dates = list(dates)\n",
    "\n",
    "        return dates\n",
    "    \n",
    "    except:\n",
    "        print(person_name, \"is not a human! function: person_born_dead\")"
   ]
  }
 ],
 "metadata": {
  "kernelspec": {
   "display_name": "Python 3",
   "language": "python",
   "name": "python3"
  },
  "language_info": {
   "codemirror_mode": {
    "name": "ipython",
    "version": 3
   },
   "file_extension": ".py",
   "mimetype": "text/x-python",
   "name": "python",
   "nbconvert_exporter": "python",
   "pygments_lexer": "ipython3",
   "version": "3.7.3"
  }
 },
 "nbformat": 4,
 "nbformat_minor": 2
}
