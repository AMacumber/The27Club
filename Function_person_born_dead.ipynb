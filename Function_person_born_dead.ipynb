{
 "cells": [
  {
   "cell_type": "code",
   "execution_count": 78,
   "metadata": {},
   "outputs": [],
   "source": [
    "def return_wikitext(person_name):\n",
    "    import requests\n",
    "    import re\n",
    "    \n",
    "    wiki_url = create_wiki_url(person_name)\n",
    "    \n",
    "    try:\n",
    "        text = scrape_wiki_page(wiki_url)\n",
    "        \n",
    "        return text\n",
    "    \n",
    "    except:\n",
    "        print(person_name, \"is not a human! function: person_born_dead\")"
   ]
  },
  {
   "cell_type": "code",
   "execution_count": 79,
   "metadata": {},
   "outputs": [],
   "source": [
    "def return_page_slice(text, start_point = \"Born\"):\n",
    "    \n",
    "    start = text.find(start_point)\n",
    "    page_slice = text[start+4:start+1000] #slice after born\n",
    "    \n",
    "    return page_slice    "
   ]
  },
  {
   "cell_type": "code",
   "execution_count": 77,
   "metadata": {},
   "outputs": [],
   "source": [
    "def person_born_dead(person_name):\n",
    "    \"\"\"\n",
    "    Provided with a Wikipedia Page Name (str) (e.g., 'Jim Morrison')\n",
    "    Return a set(Date born, Date died)\n",
    "    \"\"\"\n",
    "    import requests\n",
    "    import re\n",
    "    \n",
    "    try:\n",
    "        text = return_wikitext(person_name)\n",
    "    except:\n",
    "        print(\"Check out: return_wikitext()\")\n",
    "    \n",
    "    try:\n",
    "        page_slice = return_page_slice(text)\n",
    "    except:\n",
    "        print(\"Check out: return_page_slice()\")\n",
    "    \n",
    "    try:\n",
    "        # create an empty set to have dates added to; set protects against dups\n",
    "        dates = []\n",
    "        dates_dict = {}\n",
    "        \n",
    "        pattern01 = re.compile(r'\\b\\w{3,9}\\s\\d{1,2}\\W\\s\\d{4}')  # Month Date, Year\n",
    "        pattern02 = re.compile(r'\\b\\d{1,2}\\s\\w{3,9}\\s\\d{4}')  # Date Month Year\n",
    "        \n",
    "        titles = ('Born', 'Dead')\n",
    "        matches01 = pattern01.finditer(page_slice)\n",
    "        \n",
    "        for match in matches01:\n",
    "            dates.append(match.group(0))\n",
    "            \n",
    "        dates_tuple = tuple(dates)\n",
    "        \n",
    "        for title, match in zip(titles, dates_tuple):\n",
    "            dates_dict[title] = match\n",
    "                      \n",
    "        \n",
    "        if len(dates.values()) == 0:\n",
    "            \n",
    "            matches02 = pattern02.finditer(page_slice)\n",
    "            \n",
    "            for match in matches01:\n",
    "                dates.append(match.group(0))\n",
    "                \n",
    "                dates_tuple = tuple(dates)\n",
    "                \n",
    "                for title, match in zip(titles, dates_tuple):\n",
    "                    dates_dict[title] = match\n",
    "                \n",
    "        return dates\n",
    "    \n",
    "    except:\n",
    "        print(person_name, \"is not a human! function: person_born_dead\")"
   ]
  },
  {
   "cell_type": "markdown",
   "metadata": {},
   "source": [
    "## Dependencies"
   ]
  },
  {
   "cell_type": "code",
   "execution_count": 4,
   "metadata": {},
   "outputs": [],
   "source": [
    "def create_wiki_url(page_name):\n",
    "    url = \"http://en.wikipedia.org/wiki/\"\n",
    "    format_page_name = page_name.strip().replace(\" \",\"_\")\n",
    "    \n",
    "    wiki_url = url + format_page_name\n",
    "        \n",
    "    return wiki_url"
   ]
  },
  {
   "cell_type": "code",
   "execution_count": 5,
   "metadata": {},
   "outputs": [],
   "source": [
    "def scrape_wiki_page(wiki_url):\n",
    "    \"\"\"\n",
    "    Given wikipedia url, return scraped text\n",
    "    \"\"\"\n",
    "    \n",
    "    import requests\n",
    "    \n",
    "    try:\n",
    "        wiki_page = requests.get(wiki_url)\n",
    "        wiki_page_text = wiki_page.text\n",
    "        return wiki_page_text\n",
    "    \n",
    "    except:\n",
    "        return \"They don't have a wikipedia page!\" "
   ]
  },
  {
   "cell_type": "markdown",
   "metadata": {},
   "source": [
    "# Execute"
   ]
  },
  {
   "cell_type": "code",
   "execution_count": 80,
   "metadata": {},
   "outputs": [
    {
     "name": "stdout",
     "output_type": "stream",
     "text": [
      "Jim Morrison is not a human! function: person_born_dead\n"
     ]
    }
   ],
   "source": [
    "person_born_dead('Jim Morrison')"
   ]
  },
  {
   "cell_type": "code",
   "execution_count": 66,
   "metadata": {},
   "outputs": [
    {
     "ename": "NameError",
     "evalue": "name 'return_wikitext' is not defined",
     "output_type": "error",
     "traceback": [
      "\u001b[1;31m---------------------------------------------------------------------------\u001b[0m",
      "\u001b[1;31mNameError\u001b[0m                                 Traceback (most recent call last)",
      "\u001b[1;32m<ipython-input-66-e594909b0e06>\u001b[0m in \u001b[0;36m<module>\u001b[1;34m\u001b[0m\n\u001b[1;32m----> 1\u001b[1;33m \u001b[0mreturn_wikitext\u001b[0m\u001b[1;33m(\u001b[0m\u001b[1;34m'Jim Morrison'\u001b[0m\u001b[1;33m)\u001b[0m\u001b[1;33m\u001b[0m\u001b[1;33m\u001b[0m\u001b[0m\n\u001b[0m",
      "\u001b[1;31mNameError\u001b[0m: name 'return_wikitext' is not defined"
     ]
    }
   ],
   "source": [
    "return_wikitext('Jim Morrison')"
   ]
  },
  {
   "cell_type": "code",
   "execution_count": 8,
   "metadata": {},
   "outputs": [],
   "source": [
    "import requests\n",
    "import re\n",
    "    \n",
    "wiki_url = create_wiki_url(person_name)\n",
    "text = scrape_wiki_page(wiki_url)\n",
    "    \n",
    "# create an empty set to have dates added to; set protects against dups\n",
    "dates = set()"
   ]
  },
  {
   "cell_type": "code",
   "execution_count": 11,
   "metadata": {},
   "outputs": [
    {
     "data": {
      "text/plain": [
       "['July 3, 1971', 'December 8, 1943']"
      ]
     },
     "execution_count": 11,
     "metadata": {},
     "output_type": "execute_result"
    }
   ],
   "source": [
    "dates = set()\n",
    "\n",
    "start = text.find(\"Born\")\n",
    "page_slice = text[start+4:start+1000] #slice after born\n",
    "                \n",
    "pattern01 = re.compile(r'\\b\\w{3,9}\\s\\d{1,2}\\W\\s\\d{4}')  # Month Date, Year\n",
    "pattern02 = re.compile(r'\\b\\d{1,2}\\s\\w{3,9}\\s\\d{4}')  # Date Month Year\n",
    "             \n",
    "matches01 = pattern01.finditer(page_slice)\n",
    "\n",
    "for match in matches01:\n",
    "    dates.add(match.group(0))\n",
    "    \n",
    "if len(dates) == 0:\n",
    "    matches02 = pattern02.finditer(page_slice)\n",
    "    \n",
    "    for match in matches02:\n",
    "        dates.add(match.group(0))\n",
    "            \n",
    "list(dates)"
   ]
  },
  {
   "cell_type": "code",
   "execution_count": 29,
   "metadata": {},
   "outputs": [
    {
     "name": "stdout",
     "output_type": "stream",
     "text": [
      "</th><td><span style=\"display:none\">(<span class=\"bday\">1943-12-08</span>)</span>December 8, 1943<br /><a href=\"/wiki/Melbourne,_Florida\" title=\"Melbourne, Florida\">Melbourne, Florida</a>, U.S.</td></tr><tr><th scope=\"row\">Died</th><td>July 3, 1971<span style=\"display:none\">(1971-07-03)</span> (aged&#160;27)<br /><a href=\"/wiki/Paris\" title=\"Paris\">Paris</a>, France</td></tr><tr><th scope=\"row\">Genres</th><td><div class=\"hlist\">\n",
      "<ul><li><a href=\"/wiki/Rock_music\" title=\"Rock music\">Rock</a></li>\n",
      "<li><a href=\"/wiki/Psychedelic_rock\" title=\"Psychedelic rock\">psychedelic rock</a></li>\n",
      "<li><a href=\"/wiki/Spoken_word\" title=\"Spoken word\">spoken word</a></li></ul>\n",
      "</div></td></tr><tr><th scope=\"row\"><span class=\"nowrap\">Occupation(s)</span></th><td class=\"role\"><div class=\"hlist\">\n",
      "<ul><li>Singer-songwriter</li>\n",
      "<li>poet</li>\n",
      "<li>filmmaker</li>\n",
      "<li>director</li>\n",
      "<li>actor</li></ul>\n",
      "</div></td></tr><tr><th scope=\"row\">Instruments</th><td class=\"note\"><div class=\"hlist\">\n",
      "<ul><li>Vocals</li>\n"
     ]
    }
   ],
   "source": [
    "print(page_slice)"
   ]
  },
  {
   "cell_type": "code",
   "execution_count": 61,
   "metadata": {},
   "outputs": [
    {
     "name": "stdout",
     "output_type": "stream",
     "text": [
      "<re.Match object; span=(81, 97), match='December 8, 1943'>\n",
      "['December 8, 1943']\n",
      "<re.Match object; span=(236, 248), match='July 3, 1971'>\n",
      "['December 8, 1943', 'July 3, 1971']\n"
     ]
    },
    {
     "data": {
      "text/plain": [
       "{'Born': 'December 8, 1943', 'Dead': 'July 3, 1971'}"
      ]
     },
     "execution_count": 61,
     "metadata": {},
     "output_type": "execute_result"
    }
   ],
   "source": [
    "dates = []\n",
    "dates_dict = {}\n",
    "titles = ('Born', 'Dead')\n",
    "\n",
    "matches01 = pattern01.finditer(page_slice)\n",
    "\n",
    "for match in matches01:\n",
    "    print(match)\n",
    "    dates.append(match.group(0))\n",
    "    print(dates)\n",
    "    \n",
    "dates_tuple = tuple(dates)\n",
    "       \n",
    "for title, match in zip(titles, dates_tuple):\n",
    "    dates_dict[title] = match\n",
    "                      \n",
    "dates_dict"
   ]
  },
  {
   "cell_type": "code",
   "execution_count": 49,
   "metadata": {},
   "outputs": [],
   "source": [
    "zipped = zip(titles, matches01)"
   ]
  },
  {
   "cell_type": "code",
   "execution_count": 51,
   "metadata": {},
   "outputs": [
    {
     "ename": "TypeError",
     "evalue": "'zip' object is not subscriptable",
     "output_type": "error",
     "traceback": [
      "\u001b[1;31m---------------------------------------------------------------------------\u001b[0m",
      "\u001b[1;31mTypeError\u001b[0m                                 Traceback (most recent call last)",
      "\u001b[1;32m<ipython-input-51-37bd38ebd54c>\u001b[0m in \u001b[0;36m<module>\u001b[1;34m\u001b[0m\n\u001b[1;32m----> 1\u001b[1;33m \u001b[0mtype\u001b[0m\u001b[1;33m(\u001b[0m\u001b[0mzipped\u001b[0m\u001b[1;33m[\u001b[0m\u001b[1;36m0\u001b[0m\u001b[1;33m]\u001b[0m\u001b[1;33m)\u001b[0m\u001b[1;33m\u001b[0m\u001b[1;33m\u001b[0m\u001b[0m\n\u001b[0m",
      "\u001b[1;31mTypeError\u001b[0m: 'zip' object is not subscriptable"
     ]
    }
   ],
   "source": []
  },
  {
   "cell_type": "code",
   "execution_count": 37,
   "metadata": {},
   "outputs": [
    {
     "name": "stdout",
     "output_type": "stream",
     "text": [
      "<re.Match object; span=(236, 248), match='July 3, 1971'>\n"
     ]
    }
   ],
   "source": [
    "for match in matches01:\n",
    "    print(match)"
   ]
  },
  {
   "cell_type": "code",
   "execution_count": 20,
   "metadata": {},
   "outputs": [
    {
     "data": {
      "text/plain": [
       "{'December 8, 1943', 'July 3, 1971'}"
      ]
     },
     "execution_count": 20,
     "metadata": {},
     "output_type": "execute_result"
    }
   ],
   "source": [
    "matches01 = pattern01.finditer(page_slice)\n",
    "\n",
    "for match in matches01:\n",
    "    dates.add(match.group(0))\n",
    "    \n",
    "dates"
   ]
  },
  {
   "cell_type": "code",
   "execution_count": 22,
   "metadata": {},
   "outputs": [
    {
     "ename": "TypeError",
     "evalue": "'set' object is not subscriptable",
     "output_type": "error",
     "traceback": [
      "\u001b[1;31m---------------------------------------------------------------------------\u001b[0m",
      "\u001b[1;31mTypeError\u001b[0m                                 Traceback (most recent call last)",
      "\u001b[1;32m<ipython-input-22-7cabb00fb039>\u001b[0m in \u001b[0;36m<module>\u001b[1;34m\u001b[0m\n\u001b[0;32m      1\u001b[0m \u001b[1;32mimport\u001b[0m \u001b[0mpandas\u001b[0m \u001b[1;32mas\u001b[0m \u001b[0mpd\u001b[0m\u001b[1;33m\u001b[0m\u001b[1;33m\u001b[0m\u001b[0m\n\u001b[0;32m      2\u001b[0m \u001b[1;33m\u001b[0m\u001b[0m\n\u001b[1;32m----> 3\u001b[1;33m \u001b[0mbirth\u001b[0m \u001b[1;33m=\u001b[0m \u001b[0mpd\u001b[0m\u001b[1;33m.\u001b[0m\u001b[0mto_datetime\u001b[0m\u001b[1;33m(\u001b[0m\u001b[0mdates\u001b[0m\u001b[1;33m[\u001b[0m\u001b[1;36m0\u001b[0m\u001b[1;33m]\u001b[0m\u001b[1;33m)\u001b[0m\u001b[1;33m\u001b[0m\u001b[1;33m\u001b[0m\u001b[0m\n\u001b[0m\u001b[0;32m      4\u001b[0m \u001b[0mdeath\u001b[0m \u001b[1;33m=\u001b[0m \u001b[0mpd\u001b[0m\u001b[1;33m.\u001b[0m\u001b[0mto_datetime\u001b[0m\u001b[1;33m(\u001b[0m\u001b[0mdates\u001b[0m\u001b[1;33m[\u001b[0m\u001b[1;36m1\u001b[0m\u001b[1;33m]\u001b[0m\u001b[1;33m)\u001b[0m\u001b[1;33m\u001b[0m\u001b[1;33m\u001b[0m\u001b[0m\n\u001b[0;32m      5\u001b[0m \u001b[1;33m\u001b[0m\u001b[0m\n",
      "\u001b[1;31mTypeError\u001b[0m: 'set' object is not subscriptable"
     ]
    }
   ],
   "source": [
    "import pandas as pd\n",
    "\n",
    "birth = pd.to_datetime(dates[0])\n",
    "death = pd.to_datetime(dates[1])\n",
    "\n",
    "print(birth, death)"
   ]
  },
  {
   "cell_type": "code",
   "execution_count": 72,
   "metadata": {},
   "outputs": [],
   "source": [
    "person_name = 'Jim Morrison'"
   ]
  },
  {
   "cell_type": "code",
   "execution_count": 73,
   "metadata": {},
   "outputs": [],
   "source": [
    "text = return_wikitext(person_name)\n",
    "page_slice = return_page_slice(text)\n",
    "\n",
    "import requests\n",
    "import re\n",
    "\n",
    "dates = []\n",
    "dates_dict = {}\n",
    "\n",
    "pattern01 = re.compile(r'\\b\\w{3,9}\\s\\d{1,2}\\W\\s\\d{4}')  # Month Date, Year\n",
    "pattern02 = re.compile(r'\\b\\d{1,2}\\s\\w{3,9}\\s\\d{4}')  # Date Month Year"
   ]
  },
  {
   "cell_type": "code",
   "execution_count": 75,
   "metadata": {},
   "outputs": [],
   "source": [
    "titles = ('Born', 'Dead')\n",
    "matches01 = pattern01.finditer(page_slice)\n",
    "        \n",
    "for match in matches01:\n",
    "    dates.append(match.group(0))\n",
    "    \n",
    "    dates_tuple = tuple(dates)\n",
    "    \n",
    "for title, match in zip(titles, dates_tuple):\n",
    "    dates_dict[title] = match"
   ]
  },
  {
   "cell_type": "code",
   "execution_count": 76,
   "metadata": {},
   "outputs": [
    {
     "data": {
      "text/plain": [
       "{'Born': 'December 8, 1943', 'Dead': 'July 3, 1971'}"
      ]
     },
     "execution_count": 76,
     "metadata": {},
     "output_type": "execute_result"
    }
   ],
   "source": [
    "dates_dict"
   ]
  },
  {
   "cell_type": "code",
   "execution_count": null,
   "metadata": {},
   "outputs": [],
   "source": [
    "def person_born_dead(person_name):\n",
    "    \"\"\"\n",
    "    Provided with a Wikipedia Page Name (str) (e.g., 'Jim Morrison')\n",
    "    Return a set(Date born, Date died)\n",
    "    \"\"\"\n",
    "    import requests\n",
    "    import re\n",
    "    \n",
    "    try:\n",
    "        text = return_wikitext(person_name)\n",
    "    except:\n",
    "        print(\"Check out: return_wikitext()\")\n",
    "    \n",
    "    try:\n",
    "        page_slice = return_page_slice(text)\n",
    "    except:\n",
    "        print(\"Check out: return_page_slice()\")\n",
    "    \n",
    "    try:\n",
    "        # create an empty set to have dates added to; set protects against dups\n",
    "        dates = []\n",
    "        dates_dict = {}\n",
    "        \n",
    "        pattern01 = re.compile(r'\\b\\w{3,9}\\s\\d{1,2}\\W\\s\\d{4}')  # Month Date, Year\n",
    "        pattern02 = re.compile(r'\\b\\d{1,2}\\s\\w{3,9}\\s\\d{4}')  # Date Month Year\n",
    "        \n",
    "        titles = ('Born', 'Dead')\n",
    "        matches01 = pattern01.finditer(page_slice)\n",
    "        \n",
    "        for match in matches01:\n",
    "            dates.append(match.group(0))\n",
    "            \n",
    "        dates_tuple = tuple(dates)\n",
    "        \n",
    "        for title, match in zip(titles, dates_tuple):\n",
    "            dates_dict[title] = match\n",
    "                      \n",
    "        \n",
    "        if len(dates.values()) == 0:\n",
    "            \n",
    "            matches02 = pattern02.finditer(page_slice)\n",
    "            \n",
    "            for match in matches01:\n",
    "                dates.append(match.group(0))\n",
    "                \n",
    "                dates_tuple = tuple(dates)\n",
    "                \n",
    "                for title, match in zip(titles, dates_tuple):\n",
    "                    dates_dict[title] = match\n",
    "                \n",
    "        return dates\n",
    "    \n",
    "    except:\n",
    "        print(person_name, \"is not a human! function: person_born_dead\")"
   ]
  }
 ],
 "metadata": {
  "kernelspec": {
   "display_name": "Python 3",
   "language": "python",
   "name": "python3"
  },
  "language_info": {
   "codemirror_mode": {
    "name": "ipython",
    "version": 3
   },
   "file_extension": ".py",
   "mimetype": "text/x-python",
   "name": "python",
   "nbconvert_exporter": "python",
   "pygments_lexer": "ipython3",
   "version": "3.7.3"
  }
 },
 "nbformat": 4,
 "nbformat_minor": 2
}
