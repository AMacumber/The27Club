{
 "cells": [
  {
   "cell_type": "markdown",
   "metadata": {},
   "source": [
    "Let's investigate what information an be collected from a musician's Wikipedia page. For this example we will look at Jim Morrison."
   ]
  },
  {
   "cell_type": "code",
   "execution_count": 1,
   "metadata": {},
   "outputs": [],
   "source": [
    "import wikipediaapi"
   ]
  },
  {
   "cell_type": "markdown",
   "metadata": {},
   "source": [
    "Let's see if a page called 'Jim Morrison' exists."
   ]
  },
  {
   "cell_type": "code",
   "execution_count": 4,
   "metadata": {},
   "outputs": [
    {
     "name": "stdout",
     "output_type": "stream",
     "text": [
      "Page - Exists: True\n"
     ]
    }
   ],
   "source": [
    "wiki_wiki = wikipediaapi.Wikipedia('en')\n",
    "\n",
    "page_JMorrison = wiki_wiki.page('Jim Morrison')\n",
    "\n",
    "print(\"Page - Exists: %s\" % page_JMorrison.exists())"
   ]
  },
  {
   "cell_type": "markdown",
   "metadata": {},
   "source": [
    "Which categories does the Jim Morrison page fall under?"
   ]
  },
  {
   "cell_type": "code",
   "execution_count": 5,
   "metadata": {},
   "outputs": [],
   "source": [
    "def print_categories(page):\n",
    "    categories = page.categories\n",
    "    for title in sorted(categories.keys()):\n",
    "        print(\"%s: %s\" % (title, categories[title]))"
   ]
  },
  {
   "cell_type": "code",
   "execution_count": 9,
   "metadata": {},
   "outputs": [
    {
     "data": {
      "text/plain": [
       "{'Category:1943 births': Category:1943 births (id: ??, ns: 14),\n",
       " 'Category:1971 deaths': Category:1971 deaths (id: ??, ns: 14),\n",
       " 'Category:20th-century American male actors': Category:20th-century American male actors (id: ??, ns: 14),\n",
       " 'Category:20th-century American male writers': Category:20th-century American male writers (id: ??, ns: 14),\n",
       " 'Category:20th-century American poets': Category:20th-century American poets (id: ??, ns: 14),\n",
       " 'Category:20th-century American singers': Category:20th-century American singers (id: ??, ns: 14),\n",
       " 'Category:All accuracy disputes': Category:All accuracy disputes (id: ??, ns: 14),\n",
       " 'Category:All articles lacking reliable references': Category:All articles lacking reliable references (id: ??, ns: 14),\n",
       " 'Category:All articles needing additional references': Category:All articles needing additional references (id: ??, ns: 14),\n",
       " 'Category:All articles with self-published sources': Category:All articles with self-published sources (id: ??, ns: 14),\n",
       " 'Category:All articles with unsourced statements': Category:All articles with unsourced statements (id: ??, ns: 14),\n",
       " 'Category:American baritones': Category:American baritones (id: ??, ns: 14),\n",
       " 'Category:American expatriates in France': Category:American expatriates in France (id: ??, ns: 14),\n",
       " 'Category:American male film actors': Category:American male film actors (id: ??, ns: 14),\n",
       " 'Category:American male poets': Category:American male poets (id: ??, ns: 14),\n",
       " 'Category:American male singer-songwriters': Category:American male singer-songwriters (id: ??, ns: 14),\n",
       " 'Category:American people of English descent': Category:American people of English descent (id: ??, ns: 14),\n",
       " 'Category:American people of Irish descent': Category:American people of Irish descent (id: ??, ns: 14),\n",
       " 'Category:American people of Scottish descent': Category:American people of Scottish descent (id: ??, ns: 14),\n",
       " 'Category:American rock singers': Category:American rock singers (id: ??, ns: 14),\n",
       " 'Category:American rock songwriters': Category:American rock songwriters (id: ??, ns: 14),\n",
       " 'Category:Articles lacking reliable references from April 2017': Category:Articles lacking reliable references from April 2017 (id: ??, ns: 14),\n",
       " 'Category:Articles needing additional references from August 2018': Category:Articles needing additional references from August 2018 (id: ??, ns: 14),\n",
       " 'Category:Articles with Curlie links': Category:Articles with Curlie links (id: ??, ns: 14),\n",
       " 'Category:Articles with disputed statements from May 2015': Category:Articles with disputed statements from May 2015 (id: ??, ns: 14),\n",
       " 'Category:Articles with hCards': Category:Articles with hCards (id: ??, ns: 14),\n",
       " 'Category:Articles with inconsistent citation formats': Category:Articles with inconsistent citation formats (id: ??, ns: 14),\n",
       " 'Category:Articles with self-published sources from December 2017': Category:Articles with self-published sources from December 2017 (id: ??, ns: 14),\n",
       " 'Category:Articles with short description': Category:Articles with short description (id: ??, ns: 14),\n",
       " 'Category:Articles with unsourced statements from July 2012': Category:Articles with unsourced statements from July 2012 (id: ??, ns: 14),\n",
       " 'Category:Burials at Père Lachaise Cemetery': Category:Burials at Père Lachaise Cemetery (id: ??, ns: 14),\n",
       " 'Category:Columbia Records artists': Category:Columbia Records artists (id: ??, ns: 14),\n",
       " 'Category:Death conspiracy theories': Category:Death conspiracy theories (id: ??, ns: 14),\n",
       " 'Category:Deaths in France': Category:Deaths in France (id: ??, ns: 14),\n",
       " 'Category:Elektra Records artists': Category:Elektra Records artists (id: ??, ns: 14),\n",
       " 'Category:Florida State University alumni': Category:Florida State University alumni (id: ??, ns: 14),\n",
       " 'Category:Military brats': Category:Military brats (id: ??, ns: 14),\n",
       " 'Category:Musicians from Alexandria, Virginia': Category:Musicians from Alexandria, Virginia (id: ??, ns: 14),\n",
       " 'Category:Obscenity controversies in music': Category:Obscenity controversies in music (id: ??, ns: 14),\n",
       " 'Category:People from Melbourne, Florida': Category:People from Melbourne, Florida (id: ??, ns: 14),\n",
       " 'Category:People from Topanga, California': Category:People from Topanga, California (id: ??, ns: 14),\n",
       " 'Category:People who have received posthumous pardons': Category:People who have received posthumous pardons (id: ??, ns: 14),\n",
       " 'Category:Recipients of American gubernatorial pardons': Category:Recipients of American gubernatorial pardons (id: ??, ns: 14),\n",
       " 'Category:Singers from Florida': Category:Singers from Florida (id: ??, ns: 14),\n",
       " 'Category:Songwriters from Florida': Category:Songwriters from Florida (id: ??, ns: 14),\n",
       " 'Category:The Doors members': Category:The Doors members (id: ??, ns: 14),\n",
       " 'Category:UCLA Film School alumni': Category:UCLA Film School alumni (id: ??, ns: 14),\n",
       " 'Category:Use mdy dates from October 2019': Category:Use mdy dates from October 2019 (id: ??, ns: 14),\n",
       " 'Category:Webarchive template wayback links': Category:Webarchive template wayback links (id: ??, ns: 14),\n",
       " 'Category:Wikipedia articles with BIBSYS identifiers': Category:Wikipedia articles with BIBSYS identifiers (id: ??, ns: 14),\n",
       " 'Category:Wikipedia articles with BNE identifiers': Category:Wikipedia articles with BNE identifiers (id: ??, ns: 14),\n",
       " 'Category:Wikipedia articles with BNF identifiers': Category:Wikipedia articles with BNF identifiers (id: ??, ns: 14),\n",
       " 'Category:Wikipedia articles with GND identifiers': Category:Wikipedia articles with GND identifiers (id: ??, ns: 14),\n",
       " 'Category:Wikipedia articles with ISNI identifiers': Category:Wikipedia articles with ISNI identifiers (id: ??, ns: 14),\n",
       " 'Category:Wikipedia articles with LCCN identifiers': Category:Wikipedia articles with LCCN identifiers (id: ??, ns: 14),\n",
       " 'Category:Wikipedia articles with LNB identifiers': Category:Wikipedia articles with LNB identifiers (id: ??, ns: 14),\n",
       " 'Category:Wikipedia articles with MusicBrainz identifiers': Category:Wikipedia articles with MusicBrainz identifiers (id: ??, ns: 14),\n",
       " 'Category:Wikipedia articles with NDL identifiers': Category:Wikipedia articles with NDL identifiers (id: ??, ns: 14),\n",
       " 'Category:Wikipedia articles with NKC identifiers': Category:Wikipedia articles with NKC identifiers (id: ??, ns: 14),\n",
       " 'Category:Wikipedia articles with NLA-person identifiers': Category:Wikipedia articles with NLA-person identifiers (id: ??, ns: 14),\n",
       " 'Category:Wikipedia articles with NLA identifiers': Category:Wikipedia articles with NLA identifiers (id: ??, ns: 14),\n",
       " 'Category:Wikipedia articles with NTA identifiers': Category:Wikipedia articles with NTA identifiers (id: ??, ns: 14),\n",
       " 'Category:Wikipedia articles with SNAC-ID identifiers': Category:Wikipedia articles with SNAC-ID identifiers (id: ??, ns: 14),\n",
       " 'Category:Wikipedia articles with SUDOC identifiers': Category:Wikipedia articles with SUDOC identifiers (id: ??, ns: 14),\n",
       " 'Category:Wikipedia articles with VIAF identifiers': Category:Wikipedia articles with VIAF identifiers (id: ??, ns: 14),\n",
       " 'Category:Wikipedia articles with WorldCat-VIAF identifiers': Category:Wikipedia articles with WorldCat-VIAF identifiers (id: ??, ns: 14),\n",
       " 'Category:Wikipedia indefinitely move-protected pages': Category:Wikipedia indefinitely move-protected pages (id: ??, ns: 14)}"
      ]
     },
     "execution_count": 9,
     "metadata": {},
     "output_type": "execute_result"
    }
   ],
   "source": [
    "page_JMorrison.categories"
   ]
  },
  {
   "cell_type": "markdown",
   "metadata": {},
   "source": [
    "Using the attribute '.categories' this outputs a dictionary where the keys are 'category' and the values are the category name."
   ]
  },
  {
   "cell_type": "code",
   "execution_count": 10,
   "metadata": {},
   "outputs": [
    {
     "data": {
      "text/plain": [
       "Jim Morrison (id: 15135713, ns: 0)"
      ]
     },
     "execution_count": 10,
     "metadata": {},
     "output_type": "execute_result"
    }
   ],
   "source": [
    "page_JMorrison"
   ]
  }
 ],
 "metadata": {
  "kernelspec": {
   "display_name": "Python 3",
   "language": "python",
   "name": "python3"
  },
  "language_info": {
   "codemirror_mode": {
    "name": "ipython",
    "version": 3
   },
   "file_extension": ".py",
   "mimetype": "text/x-python",
   "name": "python",
   "nbconvert_exporter": "python",
   "pygments_lexer": "ipython3",
   "version": "3.7.3"
  }
 },
 "nbformat": 4,
 "nbformat_minor": 2
}
